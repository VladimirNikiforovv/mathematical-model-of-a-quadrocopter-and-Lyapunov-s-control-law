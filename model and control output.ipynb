{
 "cells": [
  {
   "cell_type": "markdown",
   "id": "3d8ec4ad-6d08-4bb4-be7a-1ac62e1667e5",
   "metadata": {},
   "source": [
    "Разработка математической модели, вывод системы динамических уравнений движения квадракоптера. Никифоров В.А."
   ]
  },
  {
   "cell_type": "markdown",
   "id": "a1da6547-f8e7-4400-9b2a-be13a2340e1a",
   "metadata": {},
   "source": [
    "![picture_of_QQ](QQ_pict.jpg)"
   ]
  },
  {
   "cell_type": "markdown",
   "id": "5b462321-6165-4c90-befa-66d929f54aba",
   "metadata": {},
   "source": [
    "$\\frac{L}{2}$ и $\\frac{L_{h}}{2}$ половины диаметра рамы корпуса и лопастей соответственно, $\\vec{\\Omega}$ - угловая скорость всего тела в дальнейшем обозначена $\\vec{\\omega}_{qq}$ , $\\vec{\\omega_{helix}}$ - угловая скорость винтов"
   ]
  },
  {
   "cell_type": "markdown",
   "id": "ea486669-89b2-4ad5-88d9-615d47ae9e00",
   "metadata": {},
   "source": [
    "Из второго закона Ньютона для момента сил:\n",
    "\\begin{equation}\n",
    " \\sum\\vec{M} = \\frac{d\\vec{L}}{dt} = \\frac{d{\\sum\\vec{L}}}{dt} = \\frac{d{\\vec{\\omega}_{qq}}}{dt} + \\frac{d{\\sum_{i}\\vec{\\omega}_{helix, i}}}{dt}\n",
    "\\end{equation}\n",
    "\n",
    "из соотношений относительной и абсолютной производной:\n",
    "\\begin{equation}\n",
    " \\dot{\\vec{a}_{\\omega}} =  \\dot{\\vec{a}} + \\vec{\\omega}_{a} \\times \\vec{a}\n",
    "\\end{equation}\n",
    "\n",
    "окончательно получаем уравнения на угловые скорости:\n",
    "\\begin{equation}\n",
    " \\sum\\vec{M} = \\widehat{J}_{qq} \\dot{\\vec{\\omega}}_{qq} + \\sum_{i} \\widehat{J}_{helix, i}\\dot{\\vec{\\omega}}_{helix, i} + \\vec{\\omega}_{qq} \\times (\\widehat{J}_{qq}\\vec{\\omega}_{qq} + \\sum_{i} \\widehat{J}_{helix, i} \\vec{\\omega}_{helix, i})\n",
    "\\end{equation}\n",
    "\n",
    "где $ i = 0..3$"
   ]
  },
  {
   "cell_type": "markdown",
   "id": "5a06ba17-3022-48df-93af-3396ab730a4a",
   "metadata": {},
   "source": [
    "Теорема Штейнера в тензорном виде\n",
    "\\begin{equation}\n",
    " J_{i,j} = I_{i,j} + m(a^2\\delta_{i,j}-a_{i}a_{j})\n",
    "\\end{equation}\n",
    "где $\\vec{a}$ - вектор смещения, а $I_{i,j}$ - тензор инерции в системе связанной с телом"
   ]
  },
  {
   "cell_type": "markdown",
   "id": "f18eb62b-7431-4e39-b37e-c72cb974df38",
   "metadata": {},
   "source": [
    "дополню систему законом углового движения в кватернионной форме:\n",
    "\\begin{equation}\n",
    "\\vec{\\dot{q}} = \\frac{1}{2}\\widehat{\\Omega}\\vec{q}\n",
    "\\end{equation}\n",
    "где:\n",
    "\\begin{equation}\n",
    " \\widehat{\\Omega} = \n",
    "  \\begin{pmatrix}\n",
    "  0 & -\\omega_{0}^{qq} & -\\omega_{1}^{qq} & -\\omega_{2}^{qq} \\\\\n",
    "  \\omega_{0}^{qq} & 0 & -\\omega_{2}^{qq} & \\omega_{1}^{qq} \\\\\n",
    "  \\omega_{1}^{qq}  & \\omega_{2}^{qq} & 0 & -\\omega_{0}^{qq}  \\\\\n",
    "  \\omega_{2}^{qq} & -\\omega_{1}^{qq} & \\omega_{0}^{qq} & 0\n",
    " \\end{pmatrix}\n",
    "\\end{equation}\n"
   ]
  },
  {
   "cell_type": "markdown",
   "id": "c2cfad43-8aa0-4a8f-9fd8-05bc6e3dc9e7",
   "metadata": {},
   "source": [
    "уравнение движения центральной точки из второго закона Ньютона:\n",
    "\\begin{equation}\n",
    "\\dot{\\vec{p}} = \\sum\\vec{F}\n",
    "\\end{equation}\n",
    "\n",
    "силой лобового сопротивления пренебрегаю: \n",
    "\\begin{equation}\n",
    " \\vec{F}_{air} = c_{i}\\frac{\\rho v^2}{2}\\vec{S} = 0\n",
    "\\end{equation}\n",
    "считая в областях малых скоростей.\n",
    "\n",
    "силу тяжести:\n",
    "\\begin{equation}\n",
    "\\vec{F}_{gr} = \n",
    "\\left(\\begin{matrix}\n",
    "0\\\\\n",
    "0\\\\\n",
    "mg\n",
    "\\end{matrix} \\right)\n",
    "\\end{equation}\n",
    "\n",
    "в силу расположения в системе, не связанной с телом, и тем фактом что винты создают тягу только в одном направлении подъемную силу запишу в виде вектора:\n",
    "\\begin{equation}\n",
    "\\vec{F}_{lift} = \n",
    "\\left(\\begin{matrix}\n",
    "0\\\\\n",
    "0\\\\\n",
    "k_{L}  ({\\omega_{helix, 0}}_z^2 + {\\omega_{helix, 1}}_z^2 + {\\omega_{helix, 2}}_z^2 + {\\omega_{helix, 3}}_z^2) \n",
    "\\end{matrix} \\right)\n",
    "\\end{equation}\n",
    "где $k_{L}$ - Коэффициент пропорциональности между вращением винта и подъёмной силой которую он создает.\n",
    "А для того что бы учитывать изменения направления силы подействую на вектор силы оператором поворота, связанного с телом из соотношений поворотов через кватернионы\n",
    "\\begin{equation}\n",
    " \\widehat{R}(q(t)) = \n",
    "  \\begin{pmatrix}\n",
    "  q_{0}^2 + q_{1}^2 - q_{2}^2 - q_{3}^2 & 2(q_{1}q_{2} - q_{0}q_{3}) & 2(q_{0}q_{2} + q_{1}q_{3}) \\\\\n",
    "  2(q_{0}q_{3} + q_{1}q_{2}) & q_{0}^2 - q_{1}^2 + q_{2}^2 - q_{3}^2 & 2(q_{2}q_{3} - q_{0}q_{1})  \\\\\n",
    "  2(q_{1}q_{3} - q_{0}q_{2})  & 2(q_{0}q_{1} + q_{2}q_{3}) & q_{0}^2 - q_{1}^2 - q_{2}^2 + q_{3}^2  \n",
    " \\end{pmatrix}\n",
    "\\end{equation}\n",
    "\n",
    "Окончательно имея уравнение динамического движения:\n",
    "\\begin{equation}\n",
    "\\dot{\\vec{p}} = \\vec{F}_{grav} + \\widehat{R}(q(t))\\vec{F}_{lift}\n",
    "\\end{equation}"
   ]
  },
  {
   "cell_type": "markdown",
   "id": "aa76972e-6ab4-4af2-a4af-1290907301c4",
   "metadata": {},
   "source": [
    "Так же необходимо обозначить моменты сил, действующих со стороны подъёмной силы винта как рычага.\n",
    "Момент силы создаваемый одним из поднимающих винтов, $\\vec{r}$ - вектор трансляции винта на крестовине равен $\\frac{L}{2}$, \n",
    "\\begin{equation}\n",
    "\\vec{M}_{air lift} = \\vec{r}\\times\\ \\vec{F}_{lift} \n",
    "\\end{equation}\n",
    "\n",
    "\\begin{equation}\n",
    "\\vec{M}_{air lift}^0 = \n",
    "\\begin{vmatrix}\n",
    "       \\vec{i} & \\vec{j} & \\vec{k} \\\\\n",
    "       \\frac{L}{2} & 0 & 0 \\\\\n",
    "       0           & 0 & k_l{\\omega_{helix, 0}}_z^2\n",
    "     \\end{vmatrix} = \n",
    "     \\begin{pmatrix}\n",
    "  0 \\\\\n",
    "  -\\frac{L}{2} k_l{\\omega_{helix, 0}}_z^2 \\\\\n",
    "  0\n",
    "\\end{pmatrix}\n",
    "\\end{equation}\n",
    "\n",
    "\\begin{equation}\n",
    "\\vec{M}_{air lift}^1 = \n",
    "\\begin{vmatrix}\n",
    "       \\vec{i} & \\vec{j} & \\vec{k} \\\\\n",
    "       0 & \\frac{L}{2} & 0 \\\\\n",
    "       0           & 0 & k_lk_l{\\omega_{helix, 1}}_z^2\n",
    "     \\end{vmatrix} = \n",
    "     \\begin{pmatrix}\n",
    "  \\frac{L}{2} k_l{\\omega_{helix, 1}}_z \\\\\n",
    "  0 \\\\\n",
    "  0\n",
    "\\end{pmatrix}\n",
    "\\end{equation}\n",
    "\n",
    "\\begin{equation}\n",
    "\\vec{M}_{air lift}^2 = \n",
    "     \\begin{pmatrix}\n",
    "  0 \\\\\n",
    "  \\frac{L}{2} k_l{\\omega_{helix, 2}}_z^2 \\\\\n",
    "  0\n",
    "\\end{pmatrix}\n",
    "\\end{equation}\n",
    "\n",
    "\\begin{equation}\n",
    "\\vec{M}_{air lift}^3 = \n",
    "     \\begin{pmatrix}\n",
    "  -\\frac{L}{2} k_l{\\omega_{helix, 3}}_z^2 \\\\\n",
    "  0 \\\\\n",
    "  0\n",
    "\\end{pmatrix}\n",
    "\\end{equation}"
   ]
  },
  {
   "cell_type": "markdown",
   "id": "243ae4ca-9d3e-4cce-99af-a695abcbdc1d",
   "metadata": {},
   "source": [
    "А так же ввести возмущающий момент $\\vec{M}_{ext}$"
   ]
  },
  {
   "cell_type": "markdown",
   "id": "a595c4c6-133b-4ed3-b430-4c014e0e324b",
   "metadata": {},
   "source": [
    "Окончательно система уравнений динамического движения квадрокоптера принимает вид:\n",
    "\n",
    "\\begin{equation}\n",
    " \\begin{cases}\n",
    " \\dot{\\vec{\\omega}}_{qq} = \\widehat{J}^{-1}_{qq}(\\sum_{j} \\vec{M}_{ext, j} + \\sum_{j}\\vec{M}^{j}_{air lift} - \\sum_{i} \\widehat{J}_{helix,   i}\\dot{\\vec{\\omega}}_{helix, i} - \\vec{\\omega}_{qq} \\times (\\widehat{J}_{qq}\\vec{\\omega}_{qq} + \\sum_{i} \\widehat{J}_{helix, i} \\vec{\\omega}_{helix, i}))  \\\\\n",
    "   \\vec{\\dot{q}} = \\frac{1}{2}\\widehat{\\Omega}\\vec{q}\\\\\n",
    "   \\dot{\\vec{p}} = \\vec{F}_{grav} + \\widehat{R}(q(t))\\vec{F}_{lift}\\\\\n",
    "   \\dot{\\vec{r}} = \\frac{1}{m_{qq}}\\vec{p}\n",
    " \\end{cases}\n",
    "\\end{equation}"
   ]
  },
  {
   "cell_type": "markdown",
   "id": "31b3d34a-a1e6-4eba-8f66-274ee158a7f1",
   "metadata": {},
   "source": [
    "Закон управления можно получить через критерии устойчивости по Ляпунову"
   ]
  },
  {
   "cell_type": "markdown",
   "id": "417a7742-fd55-412b-9c6a-4620f2a882d3",
   "metadata": {},
   "source": [
    "функция Ляпунова для системы\n",
    "\n",
    "\\begin{equation}\n",
    " \\dot{\\vec{X}} = \\vec{f(\\vec{X})}\n",
    "\\end{equation}\n",
    "\n",
    "\\begin{equation}\n",
    " \\dot{V} = \\nabla V \\cdot f(\\vec{X})\n",
    "\\end{equation}"
   ]
  },
  {
   "cell_type": "markdown",
   "id": "93588f9f-362a-4f4e-bfae-55006a1a964e",
   "metadata": {},
   "source": [
    "\\begin{equation}\n",
    " V \\geq 0\n",
    "\\end{equation}"
   ]
  },
  {
   "cell_type": "markdown",
   "id": "814f357e-36d3-408d-ac91-30517827374e",
   "metadata": {},
   "source": [
    "Система разделяется поэтому задачу ставлю на поиск закона управления импульсами"
   ]
  },
  {
   "cell_type": "markdown",
   "id": "86a56308-29ac-4bfb-bb91-26da486022c9",
   "metadata": {},
   "source": [
    "Функцию Ляпунова системы выбираю в виде энергетического предположения квадратичной формы \n",
    "\\begin{equation}\n",
    "V = \\frac{1}{2}\\vec{\\omega}^T \\widehat{J}_{qq} \\vec{\\omega} + k_q(1 - q_{0}) + \\frac{1}{2}\\vec{p}^T\\vec{p}\n",
    "\\end{equation}\n",
    "\n",
    "\\begin{equation}\n",
    "{\\vec{q}}_{vect} = \\left( q_1, q_2, q_3 \\right)^T\n",
    "\\end{equation}"
   ]
  },
  {
   "cell_type": "markdown",
   "id": "2b6d3cb2-4e9d-4620-bf68-ee9c5525c099",
   "metadata": {},
   "source": [
    "\\begin{equation}\n",
    "  \\dot{V} = \\left( -\\sum_{i} \\widehat{J}_{helix,   i} \\dot{\\vec{\\omega}}_{helix, i} + \\sum_{j} \\vec{M}_{air lift, j} + \\vec{M}_{ext} - \\vec{\\omega}_{qq} \\times (\\widehat{J}_{qq}\\vec{\\omega}_{qq} + \\sum_{i} \\widehat{J}_{helix, i} \\vec{\\omega}_{helix, i}),  \\vec{\\omega}_{qq} \\right) + \\left(\\frac{1}{2} \\vec{\\omega}_{qq} , k_q{\\vec{q}}_{vect} \\right) + \\left( \\vec{F}_{grav} + \\widehat{R}(q(t))\\vec{F}_{lift}, \\vec{p}\\right)\n",
    "\\end{equation}"
   ]
  },
  {
   "cell_type": "markdown",
   "id": "cf1425d6-b08e-4797-b5cf-735c1144e1c2",
   "metadata": {},
   "source": [
    "\\begin{equation}\n",
    "  \\dot{V} = \\left( -\\sum_{i} \\widehat{J}_{helix,   i} \\dot{\\vec{\\omega}}_{helix, i} + \\sum_{j} \\vec{M}_{air lift, j} + \\vec{M}_{ext} - \\vec{\\omega}_{qq} \\times (\\widehat{J}_{qq}\\vec{\\omega}_{qq} + \\sum_{i} \\widehat{J}_{helix, i} \\vec{\\omega}_{helix, i}) + \\frac{1}{2} k_q {\\vec{q}}_{vect},  \\vec{\\omega}_{qq} \\right)+ \\left( \\vec{F}_{grav} + \\widehat{R}(q(t))\\vec{F}_{lift}, \\vec{p}\\right)\n",
    "\\end{equation}"
   ]
  },
  {
   "cell_type": "markdown",
   "id": "2c61a56f-46b1-4d4c-904e-70c0a1a91db9",
   "metadata": {},
   "source": [
    "управление выведем из теоремы Барбашина - Красовского\n",
    "\\begin{equation}\n",
    "  \\dot{V} \\leq 0\\\\\n",
    "\\end{equation}\n",
    "\n",
    "\\begin{equation}\n",
    " -\\sum_{i} \\widehat{J}_{helix,   i} \\dot{\\vec{\\omega}}_{helix, i} + \\sum_{j} \\vec{M}_{air lift, j} + \\vec{M}_{ext} - \\vec{\\omega}_{qq} \\times (\\widehat{J}_{qq}\\vec{\\omega}_{qq} + \\sum_{i} \\widehat{J}_{helix, i} \\vec{\\omega}_{helix, i}) + \\frac{1}{2} k_q{\\vec{q}}_{vect} = -\\gamma \\vec{\\omega}_{qq}   \\\\\n",
    "\\end{equation}\n"
   ]
  },
  {
   "cell_type": "markdown",
   "id": "1ad2c94f-7d05-4e1f-9e1e-c8d3d02686e1",
   "metadata": {},
   "source": [
    " что избежать особенности с поворотами заменим $k_q{\\vec{q}}_{vect}$ на $sign(q_0)k_q{\\vec{q}}_{vect}$"
   ]
  },
  {
   "cell_type": "markdown",
   "id": "49da2276-2fa1-4385-869b-61ef2268a9da",
   "metadata": {},
   "source": [
    "\\begin{equation}\n",
    " \\sum_{i} \\widehat{J}_{helix,   i} \\dot{\\vec{\\omega}}_{helix, i}  = \\gamma \\vec{\\omega}_{qq}  +  \\sum_{j} \\vec{M}_{air lift, j} + \\vec{M}_{ext} - \\vec{\\omega}_{qq} \\times (\\widehat{J}_{qq}\\vec{\\omega}_{qq} - \\sum_{i} \\widehat{J}_{helix, i} \\vec{\\omega}_{helix, i}) - \\frac{1}{2} sign(q_0)k_q{\\vec{q}}_{vect} \\\\\n",
    "\\end{equation}"
   ]
  },
  {
   "cell_type": "markdown",
   "id": "96426bbd-874d-4f83-a319-b80dae25c80a",
   "metadata": {},
   "source": [
    "\\begin{equation}\n",
    "\\widehat{R}(q(t))\\vec{F}_{lift} = -\\beta \\vec{p}\n",
    "\\end{equation}"
   ]
  },
  {
   "cell_type": "markdown",
   "id": "9ea0c75d-1893-4626-b4da-7c7d4038f364",
   "metadata": {},
   "source": [
    "$\\gamma$ и $\\beta$ - константы переходного процесса "
   ]
  },
  {
   "cell_type": "markdown",
   "id": "7a0ceeae-8c33-48a9-b206-dfd53cbec19b",
   "metadata": {},
   "source": [
    "Разрешая уравнения относительно условий устойчивости получаю систему уравнений на закон управления\n",
    "\\begin{equation}\n",
    " \\begin{cases}\n",
    " \\dot{\\vec{\\omega}}_{qq} = \\widehat{J}^{-1}_{qq}(\\sum_{j} \\vec{M}_{ext, j} + \\sum_{j}\\vec{M}^{j}_{air lift} - \\sum_{i} \\widehat{J}_{helix,   i}\\dot{\\vec{\\omega}}_{helix, i} - \\vec{\\omega}_{qq} \\times (\\widehat{J}_{qq}\\vec{\\omega}_{qq} + \\sum_{i} \\widehat{J}_{helix, i} \\vec{\\omega}_{helix, i}))  \\\\\n",
    "   \\vec{\\dot{q}} = \\frac{1}{2}\\widehat{\\Omega}\\vec{q}\\\\\n",
    "   \\dot{\\vec{p}} = \\vec{F}_{grav} + \\widehat{R}(q(t))\\vec{F}_{lift}\\\\\n",
    " \\end{cases}\n",
    "\\end{equation}\n",
    "\n"
   ]
  },
  {
   "cell_type": "markdown",
   "id": "4d117389-7159-421f-b5b3-582a74979e6b",
   "metadata": {},
   "source": [
    "\\begin{equation}\n",
    " \\begin{cases}\n",
    " \\widehat{J}_{qq}\\dot{\\vec{\\omega}}_{qq} = -\\gamma \\vec{\\omega}_{qq} - \\frac{1}{2} sign(q_0)k_q{\\vec{q}}_{vect}\\\\\n",
    "  \\sum_{i} \\widehat{J}_{helix,   i} \\dot{\\vec{\\omega}}_{helix, i}  = \\gamma \\vec{\\omega}_{qq}  +  \\sum_{j} \\vec{M}_{air lift, j} + \\vec{M}_{ext} - \\vec{\\omega}_{qq} \\times (\\widehat{J}_{qq}\\vec{\\omega}_{qq} + \\sum_{i} \\widehat{J}_{helix, i} \\vec{\\omega}_{helix, i}) - \\frac{1}{2} sign(q_0)k_q{\\vec{q}}_{vect} \\\\\n",
    "   \\vec{\\dot{q}} = \\frac{1}{2}\\widehat{\\Omega}\\vec{q}\\\\\n",
    "   \\dot{\\vec{p}} = -\\beta \\vec{p}\\\\\n",
    "   \\widehat{R}(q(t))\\vec{F}_{lift} = -\\beta \\vec{p} - \\vec{F}_{grav}\n",
    " \\end{cases}\n",
    "\\end{equation}"
   ]
  },
  {
   "cell_type": "markdown",
   "id": "2e92f4bb-fb7d-4fed-b786-69fad40a3775",
   "metadata": {},
   "source": [
    "Алгоритм построения управления:"
   ]
  },
  {
   "cell_type": "markdown",
   "id": "a4ab71e3-fda9-42e7-a402-56e14565d7ee",
   "metadata": {},
   "source": [
    "Ввожу следующую систему:\n",
    "\\begin{equation}\n",
    " \\begin{cases}\n",
    "    u_0 = \\frac{Lk_l}{2} (\\omega_{z,1}^2 - \\omega_{z,3}^2)\\\\\n",
    "    u_1 = \\frac{Lk_l}{2} (-\\omega_{z,0}^2 + \\omega_{z,2}^2)\\\\\n",
    "    u_2 = \\sum_i{J_{2,2}^{helix, i}}\\omega_{z,i}\\\\\n",
    "    u_3 = k_L(\\sum_i{\\omega_{z,i}^2})\n",
    "\\end{cases}\n",
    "\\end{equation}\n",
    "Где $\\omega_{z,i}$ - 3тья компонента угловой скорости маховиков, единственная не нулевая в силу геометрических соображений."
   ]
  },
  {
   "cell_type": "markdown",
   "id": "a216f1b5-aa94-47fa-b99a-978ee7c0ef78",
   "metadata": {},
   "source": [
    "Считая добавку к импульсу желаемой величиной, на каждом шаге моделирования разрешаю уравнение на переменные $u_i$ и $q_{1,2,3}$ предполагая импульсы известными функциями."
   ]
  },
  {
   "cell_type": "markdown",
   "id": "22462b3c-8528-442e-acf5-bb9317d1120e",
   "metadata": {},
   "source": [
    "Остальные части системы решаю методом Рунге-Кутты 4 порядка для $\\dot{q}_0 = (-\\vec{\\omega}_{qq}, \\vec{q}_{vect})$ и части с производными по угловой скорости, в которые подставляю полученные условия из системы нелинейных уравнений. А также пользуясь ортогональностью матриц поворота."
   ]
  },
  {
   "cell_type": "markdown",
   "id": "56dbd6be-7c65-4c3b-8205-2635e71f1b0d",
   "metadata": {},
   "source": [
    "Таким образом решая задачу в цикле получаю управление."
   ]
  },
  {
   "cell_type": "markdown",
   "id": "273c7bbe-ad98-4a01-9d8d-c8b6993a62da",
   "metadata": {},
   "source": [
    "Проверку строил следующим образом, сначала вычисляю управление, потом подставляю в исходную систему решая все методом Рунге-Кутты 4 порядка"
   ]
  },
  {
   "cell_type": "markdown",
   "id": "9118a073-ddb7-4f8a-9e09-5d17ab367976",
   "metadata": {},
   "source": [
    "Результаты моделирования, для стабилизации и придания подъёмного импульса равного 1"
   ]
  },
  {
   "cell_type": "markdown",
   "id": "14e4130b-2781-46a0-be3e-d73d98ff3991",
   "metadata": {},
   "source": [
    "Угловые скорости винтов"
   ]
  },
  {
   "cell_type": "markdown",
   "id": "2cd9a25d-a729-4710-b793-f7b6c9cfa050",
   "metadata": {},
   "source": [
    "![wh](wh1.jpeg)"
   ]
  },
  {
   "cell_type": "markdown",
   "id": "bec123f7-5523-4b3e-8b87-9a5f2e62f673",
   "metadata": {},
   "source": [
    "Результат подстановки в исходную систему"
   ]
  },
  {
   "cell_type": "markdown",
   "id": "ada7d7e3-f20a-4983-b304-194f2b329bde",
   "metadata": {},
   "source": [
    "![stab_and_lift](stab_and_lift.jpeg)"
   ]
  },
  {
   "cell_type": "markdown",
   "id": "850c4a0c-6e2c-42c0-9872-2301658cde0e",
   "metadata": {},
   "source": [
    "пример отклика на косинус"
   ]
  },
  {
   "cell_type": "markdown",
   "id": "b2fff14f-d497-4891-a5d0-0b91326a31bc",
   "metadata": {},
   "source": [
    "![respounse_on_cos](respounse_on_cos.jpeg)"
   ]
  },
  {
   "cell_type": "markdown",
   "id": "dbf9784f-78e8-491c-9f90-926b915741dd",
   "metadata": {},
   "source": [
    "скорости винтов"
   ]
  },
  {
   "cell_type": "markdown",
   "id": "afb2e06e-1964-4503-988c-cc5c6b5cacab",
   "metadata": {},
   "source": [
    "![vel1](vel_1.jpeg)"
   ]
  },
  {
   "cell_type": "markdown",
   "id": "b526f753-0e94-4c75-ae72-3e09d21294d3",
   "metadata": {},
   "source": [
    "и для второй пары винтов"
   ]
  },
  {
   "cell_type": "markdown",
   "id": "d7290a7b-8a40-4fd4-b25f-2bb90cc9abb4",
   "metadata": {},
   "source": [
    "![vel2](vel_2.jpeg)"
   ]
  }
 ],
 "metadata": {
  "kernelspec": {
   "display_name": "Python 3 (ipykernel)",
   "language": "python",
   "name": "python3"
  },
  "language_info": {
   "codemirror_mode": {
    "name": "ipython",
    "version": 3
   },
   "file_extension": ".py",
   "mimetype": "text/x-python",
   "name": "python",
   "nbconvert_exporter": "python",
   "pygments_lexer": "ipython3",
   "version": "3.11.7"
  }
 },
 "nbformat": 4,
 "nbformat_minor": 5
}
