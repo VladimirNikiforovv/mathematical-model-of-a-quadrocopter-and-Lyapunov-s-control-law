{
 "cells": [
  {
   "cell_type": "code",
   "execution_count": 1,
   "id": "0154573b",
   "metadata": {},
   "outputs": [],
   "source": [
    "import numpy as np\n",
    "import matplotlib.pyplot as plt\n",
    "import math\n",
    "%matplotlib notebook\n",
    "from mpl_toolkits.mplot3d import Axes3D\n",
    "from matplotlib import animation\n",
    "from matplotlib import image\n",
    "from matplotlib.animation import FuncAnimation\n",
    "import sympy as sp"
   ]
  },
  {
   "cell_type": "markdown",
   "id": "d3472a96",
   "metadata": {},
   "source": [
    "Автоматизированные символьные вычисления"
   ]
  },
  {
   "cell_type": "code",
   "execution_count": 14,
   "id": "c736aa37",
   "metadata": {},
   "outputs": [],
   "source": [
    "t = sp.symbols('t', real=True, function = True)\n",
    "\n",
    "q = [sp.Function(f'q_{i}')(t) for i in range(4)]\n",
    "\n",
    "p = [sp.Function(f'p_{i}')(t) for i in range(3)]\n",
    "\n",
    "M_ext = sp.symbols('M^ext_:{}'.format(3))\n",
    "\n",
    "M_airfit = sp.symbols('M^airfit_:{}_:{}'.format(4,3))\n",
    "\n",
    "J_qq = sp.symbols('J^qq_:{}_:{}'.format(3,3))\n",
    "\n",
    "J_helix = sp.symbols('J^helix_:{}_:{}_:{}'.format(4,3,3))\n",
    "\n",
    "dp = [sp.Function(f'dp_{i}')(t) for i in range(3)]\n",
    "\n",
    "w_qq = [sp.Function(f'w^qq_{i}')(t) for i in range(3)]\n",
    "\n",
    "w_helix = sp.symbols('w^helix_:{}_:{}'.format(4,3))\n",
    "\n",
    "F_grav = sp.symbols('F^grav_:{}'.format(3))\n",
    "\n",
    "F_lift = sp.symbols('F^lift_:{}'.format(3))\n",
    "\"\"\"масса квадрокоптера и ускорение силы тяжести\"\"\"\n",
    "g, Mqq = sp.symbols('g M_qq')"
   ]
  },
  {
   "cell_type": "code",
   "execution_count": 15,
   "id": "7f9fcc35",
   "metadata": {},
   "outputs": [
    {
     "data": {
      "text/latex": [
       "$\\displaystyle \\left[\\begin{matrix}q_{0}^{2}{\\left(t \\right)} + q_{1}^{2}{\\left(t \\right)} - q_{2}^{2}{\\left(t \\right)} - q_{3}^{2}{\\left(t \\right)} & - 2 q_{0}{\\left(t \\right)} q_{3}{\\left(t \\right)} + 2 q_{1}{\\left(t \\right)} q_{2}{\\left(t \\right)} & 2 q_{0}{\\left(t \\right)} q_{2}{\\left(t \\right)} + 2 q_{1}{\\left(t \\right)} q_{3}{\\left(t \\right)}\\\\2 q_{0}{\\left(t \\right)} q_{3}{\\left(t \\right)} + 2 q_{1}{\\left(t \\right)} q_{2}{\\left(t \\right)} & q_{0}^{2}{\\left(t \\right)} - q_{1}^{2}{\\left(t \\right)} + q_{2}^{2}{\\left(t \\right)} - q_{3}^{2}{\\left(t \\right)} & - 2 q_{0}{\\left(t \\right)} q_{1}{\\left(t \\right)} + 2 q_{2}{\\left(t \\right)} q_{3}{\\left(t \\right)}\\\\- 2 q_{0}{\\left(t \\right)} q_{2}{\\left(t \\right)} + 2 q_{1}{\\left(t \\right)} q_{3}{\\left(t \\right)} & 2 q_{0}{\\left(t \\right)} q_{1}{\\left(t \\right)} + 2 q_{2}{\\left(t \\right)} q_{3}{\\left(t \\right)} & q_{0}^{2}{\\left(t \\right)} - q_{1}^{2}{\\left(t \\right)} - q_{2}^{2}{\\left(t \\right)} + q_{3}^{2}{\\left(t \\right)}\\end{matrix}\\right]$"
      ],
      "text/plain": [
       "Matrix([\n",
       "[q_0(t)**2 + q_1(t)**2 - q_2(t)**2 - q_3(t)**2,            -2*q_0(t)*q_3(t) + 2*q_1(t)*q_2(t),             2*q_0(t)*q_2(t) + 2*q_1(t)*q_3(t)],\n",
       "[            2*q_0(t)*q_3(t) + 2*q_1(t)*q_2(t), q_0(t)**2 - q_1(t)**2 + q_2(t)**2 - q_3(t)**2,            -2*q_0(t)*q_1(t) + 2*q_2(t)*q_3(t)],\n",
       "[           -2*q_0(t)*q_2(t) + 2*q_1(t)*q_3(t),             2*q_0(t)*q_1(t) + 2*q_2(t)*q_3(t), q_0(t)**2 - q_1(t)**2 - q_2(t)**2 + q_3(t)**2]])"
      ]
     },
     "execution_count": 15,
     "metadata": {},
     "output_type": "execute_result"
    }
   ],
   "source": [
    "R_q = sp.Matrix(3,3, lambda i, j: 0)\n",
    "R_q[0,0] = q[0]**2 + q[1]**2 - q[2]**2 - q[3]**2 \n",
    "R_q[0,1] = 2*(q[1]*q[2] - q[0]*q[3])\n",
    "R_q[0,2] = 2*(q[0]*q[2] + q[1]*q[3])\n",
    "R_q[1,0] = 2*(q[0]*q[3] + q[1]*q[2]) \n",
    "R_q[1,1] = q[0]**2 - q[1]**2 + q[2]**2 - q[3]**2 \n",
    "R_q[1,2] = 2*(q[2]*q[3] - q[0]*q[1]) \n",
    "R_q[2,0] = 2*(q[1]*q[3] - q[0]*q[2]) \n",
    "R_q[2,1] =  2*(q[0]*q[1] + q[2]*q[3])\n",
    "R_q[2,2] = q[0]**2 - q[1]**2 - q[2]**2 + q[3]**2 \n",
    "R_q"
   ]
  },
  {
   "cell_type": "code",
   "execution_count": 16,
   "id": "8dad1fe5",
   "metadata": {},
   "outputs": [
    {
     "data": {
      "text/latex": [
       "$\\displaystyle \\left[\\begin{matrix}0 & - w^{qq}_{0}{\\left(t \\right)} & - w^{qq}_{1}{\\left(t \\right)} & - w^{qq}_{2}{\\left(t \\right)}\\\\w^{qq}_{0}{\\left(t \\right)} & 0 & - w^{qq}_{2}{\\left(t \\right)} & w^{qq}_{1}{\\left(t \\right)}\\\\w^{qq}_{1}{\\left(t \\right)} & w^{qq}_{2}{\\left(t \\right)} & 0 & - w^{qq}_{0}{\\left(t \\right)}\\\\w^{qq}_{2}{\\left(t \\right)} & - w^{qq}_{1}{\\left(t \\right)} & w^{qq}_{0}{\\left(t \\right)} & 0\\end{matrix}\\right]$"
      ],
      "text/plain": [
       "Matrix([\n",
       "[        0, -w^qq_0(t), -w^qq_1(t), -w^qq_2(t)],\n",
       "[w^qq_0(t),          0, -w^qq_2(t),  w^qq_1(t)],\n",
       "[w^qq_1(t),  w^qq_2(t),          0, -w^qq_0(t)],\n",
       "[w^qq_2(t), -w^qq_1(t),  w^qq_0(t),          0]])"
      ]
     },
     "execution_count": 16,
     "metadata": {},
     "output_type": "execute_result"
    }
   ],
   "source": [
    "OmegaTen = sp.Matrix(4, 4, lambda i, j: 0)\n",
    "for i in range(0, 4):\n",
    "    for j in range(0, 4):\n",
    "        if i < j:\n",
    "            if i == 0:\n",
    "                OmegaTen[i, j] = -w_qq[j-1]\n",
    "            elif i == 1:\n",
    "                OmegaTen[i, j] = -w_qq[1-j]\n",
    "                OmegaTen[1, 3] = w_qq[1]\n",
    "            else:\n",
    "                OmegaTen[i, j] = -w_qq[0]\n",
    "                \n",
    "        elif i > j:\n",
    "            OmegaTen[i, j] = -OmegaTen[j, i]\n",
    "OmegaTen"
   ]
  },
  {
   "cell_type": "code",
   "execution_count": 17,
   "id": "c62305c9",
   "metadata": {},
   "outputs": [
    {
     "data": {
      "text/latex": [
       "$\\displaystyle \\left[\\begin{matrix}F^{lift}_{0}\\\\F^{lift}_{1}\\\\F^{lift}_{2}\\end{matrix}\\right]$"
      ],
      "text/plain": [
       "Matrix([\n",
       "[F^lift_0],\n",
       "[F^lift_1],\n",
       "[F^lift_2]])"
      ]
     },
     "execution_count": 17,
     "metadata": {},
     "output_type": "execute_result"
    }
   ],
   "source": [
    "Flift = sp.Matrix(3,1, lambda i,j: F_lift[i])\n",
    "Flift"
   ]
  },
  {
   "cell_type": "code",
   "execution_count": 18,
   "id": "aa7621b5",
   "metadata": {},
   "outputs": [
    {
     "data": {
      "text/latex": [
       "$\\displaystyle \\left[\\begin{matrix}F^{grav}_{0}\\\\F^{grav}_{1}\\\\F^{grav}_{2}\\end{matrix}\\right]$"
      ],
      "text/plain": [
       "Matrix([\n",
       "[F^grav_0],\n",
       "[F^grav_1],\n",
       "[F^grav_2]])"
      ]
     },
     "execution_count": 18,
     "metadata": {},
     "output_type": "execute_result"
    }
   ],
   "source": [
    "Fgrav = sp.Matrix(3,1, lambda i,j: F_grav[i])\n",
    "Fgrav"
   ]
  },
  {
   "cell_type": "code",
   "execution_count": 19,
   "id": "036440a9",
   "metadata": {},
   "outputs": [
    {
     "data": {
      "text/latex": [
       "$\\displaystyle \\left[\\begin{matrix}F^{grav}_{0}\\\\F^{grav}_{1}\\\\F^{grav}_{2}\\end{matrix}\\right]$"
      ],
      "text/plain": [
       "Matrix([\n",
       "[F^grav_0],\n",
       "[F^grav_1],\n",
       "[F^grav_2]])"
      ]
     },
     "execution_count": 19,
     "metadata": {},
     "output_type": "execute_result"
    }
   ],
   "source": [
    "Fgrav = sp.Matrix(3,1, lambda i,j: F_grav[i])\n",
    "Fgrav"
   ]
  },
  {
   "cell_type": "code",
   "execution_count": 20,
   "id": "3990424c",
   "metadata": {},
   "outputs": [
    {
     "data": {
      "text/latex": [
       "$\\displaystyle \\left[\\begin{matrix}M^{ext}_{0}\\\\M^{ext}_{1}\\\\M^{ext}_{2}\\end{matrix}\\right]$"
      ],
      "text/plain": [
       "Matrix([\n",
       "[M^ext_0],\n",
       "[M^ext_1],\n",
       "[M^ext_2]])"
      ]
     },
     "execution_count": 20,
     "metadata": {},
     "output_type": "execute_result"
    }
   ],
   "source": [
    "Mext = sp.Matrix(3,1, lambda i,j: M_ext[i])\n",
    "Mext"
   ]
  },
  {
   "cell_type": "code",
   "execution_count": 21,
   "id": "89bc4f15",
   "metadata": {},
   "outputs": [
    {
     "data": {
      "text/latex": [
       "$\\displaystyle \\left[\\begin{matrix}M^{airfit}_{0 0} + M^{airfit}_{1 0} + M^{airfit}_{2 0} + M^{airfit}_{3 0}\\\\M^{airfit}_{0 1} + M^{airfit}_{1 1} + M^{airfit}_{2 1} + M^{airfit}_{3 1}\\\\M^{airfit}_{0 2} + M^{airfit}_{1 2} + M^{airfit}_{2 2} + M^{airfit}_{3 2}\\end{matrix}\\right]$"
      ],
      "text/plain": [
       "Matrix([\n",
       "[M^airfit_0_0 + M^airfit_1_0 + M^airfit_2_0 + M^airfit_3_0],\n",
       "[M^airfit_0_1 + M^airfit_1_1 + M^airfit_2_1 + M^airfit_3_1],\n",
       "[M^airfit_0_2 + M^airfit_1_2 + M^airfit_2_2 + M^airfit_3_2]])"
      ]
     },
     "execution_count": 21,
     "metadata": {},
     "output_type": "execute_result"
    }
   ],
   "source": [
    "Mairfit = (sp.Matrix(3,1, lambda i,j: M_airfit[i]) + sp.Matrix(3,1, lambda i,j: M_airfit[i+3]) + \n",
    "           sp.Matrix(3,1, lambda i,j: M_airfit[i+6]) + sp.Matrix(3,1, lambda i,j: M_airfit[i+9]))\n",
    "Mairfit"
   ]
  },
  {
   "cell_type": "code",
   "execution_count": 22,
   "id": "6a8e357c",
   "metadata": {},
   "outputs": [
    {
     "data": {
      "text/latex": [
       "$\\displaystyle \\left[\\begin{matrix}\\dot{w}^{helex_0}_0 + \\dot{w}^{helex_1}_0 + \\dot{w}^{helex_2}_0 + \\dot{w}^{helex_3}_0\\\\\\dot{w}^{helex_0}_1 + \\dot{w}^{helex_1}_1 + \\dot{w}^{helex_2}_1 + \\dot{w}^{helex_3}_1\\\\\\dot{w}^{helex_0}_2 + \\dot{w}^{helex_1}_2 + \\dot{w}^{helex_2}_2 + \\dot{w}^{helex_3}_2\\end{matrix}\\right]$"
      ],
      "text/plain": [
       "Matrix([\n",
       "[\\dot{w}^{helex_0}_0 + \\dot{w}^{helex_1}_0 + \\dot{w}^{helex_2}_0 + \\dot{w}^{helex_3}_0],\n",
       "[\\dot{w}^{helex_0}_1 + \\dot{w}^{helex_1}_1 + \\dot{w}^{helex_2}_1 + \\dot{w}^{helex_3}_1],\n",
       "[\\dot{w}^{helex_0}_2 + \\dot{w}^{helex_1}_2 + \\dot{w}^{helex_2}_2 + \\dot{w}^{helex_3}_2]])"
      ]
     },
     "execution_count": 22,
     "metadata": {},
     "output_type": "execute_result"
    }
   ],
   "source": [
    "w_helex_0_dot = (sp.Matrix([sp.symbols('\\dot{w}^{helex_0}_0'),\n",
    "                          sp.symbols('\\dot{w}^{helex_0}_1'),\n",
    "                          sp.symbols('\\dot{w}^{helex_0}_2')]))\n",
    "w_helex_1_dot = sp.Matrix([sp.symbols('\\dot{w}^{helex_1}_0'),\n",
    "                            sp.symbols('\\dot{w}^{helex_1}_1'),\n",
    "                            sp.symbols('\\dot{w}^{helex_1}_2')])\n",
    "w_helex_2_dot = sp.Matrix([sp.symbols('\\dot{w}^{helex_2}_0'),\n",
    "                           sp.symbols('\\dot{w}^{helex_2}_1'),\n",
    "                           sp.symbols('\\dot{w}^{helex_2}_2')])\n",
    "w_helex_3_dot = sp.Matrix([sp.symbols('\\dot{w}^{helex_3}_0'),\n",
    "                           sp.symbols('\\dot{w}^{helex_3}_1'),\n",
    "                           sp.symbols('\\dot{w}^{helex_3}_2')])\n",
    "\n",
    "w_helex_3_dot + w_helex_2_dot + w_helex_1_dot + w_helex_0_dot"
   ]
  },
  {
   "cell_type": "code",
   "execution_count": 23,
   "id": "261e1bc6",
   "metadata": {},
   "outputs": [
    {
     "data": {
      "text/latex": [
       "$\\displaystyle \\left[\\begin{matrix}w^{helix}_{0 0} + w^{helix}_{1 0} + w^{helix}_{2 0} + w^{helix}_{3 0}\\\\w^{helix}_{0 1} + w^{helix}_{1 1} + w^{helix}_{2 1} + w^{helix}_{3 1}\\\\w^{helix}_{0 2} + w^{helix}_{1 2} + w^{helix}_{2 2} + w^{helix}_{3 2}\\end{matrix}\\right]$"
      ],
      "text/plain": [
       "Matrix([\n",
       "[w^helix_0_0 + w^helix_1_0 + w^helix_2_0 + w^helix_3_0],\n",
       "[w^helix_0_1 + w^helix_1_1 + w^helix_2_1 + w^helix_3_1],\n",
       "[w^helix_0_2 + w^helix_1_2 + w^helix_2_2 + w^helix_3_2]])"
      ]
     },
     "execution_count": 23,
     "metadata": {},
     "output_type": "execute_result"
    }
   ],
   "source": [
    "w_helix_0 = sp.Matrix(3,1, lambda i,j: w_helix[i])\n",
    "w_helix_1 = sp.Matrix(3,1, lambda i,j: w_helix[i+3])\n",
    "w_helix_2 = sp.Matrix(3,1, lambda i,j: w_helix[i+6])\n",
    "w_helix_3 = sp.Matrix(3,1, lambda i,j: w_helix[i+9])\n",
    "w_helix_0+w_helix_1+w_helix_2+w_helix_3"
   ]
  },
  {
   "cell_type": "code",
   "execution_count": 24,
   "id": "46d3f6e7",
   "metadata": {},
   "outputs": [
    {
     "data": {
      "text/latex": [
       "$\\displaystyle \\left[\\begin{matrix}w^{qq}_{0}{\\left(t \\right)}\\\\w^{qq}_{1}{\\left(t \\right)}\\\\w^{qq}_{2}{\\left(t \\right)}\\end{matrix}\\right]$"
      ],
      "text/plain": [
       "Matrix([\n",
       "[w^qq_0(t)],\n",
       "[w^qq_1(t)],\n",
       "[w^qq_2(t)]])"
      ]
     },
     "execution_count": 24,
     "metadata": {},
     "output_type": "execute_result"
    }
   ],
   "source": [
    "wqq = sp.Matrix(3,1, lambda i,j: w_qq[i])\n",
    "wqq"
   ]
  },
  {
   "cell_type": "code",
   "execution_count": 25,
   "id": "cd8525a9",
   "metadata": {},
   "outputs": [
    {
     "data": {
      "text/latex": [
       "$\\displaystyle \\left[\\begin{matrix}p_{0}{\\left(t \\right)}\\\\p_{1}{\\left(t \\right)}\\\\p_{2}{\\left(t \\right)}\\end{matrix}\\right]$"
      ],
      "text/plain": [
       "Matrix([\n",
       "[p_0(t)],\n",
       "[p_1(t)],\n",
       "[p_2(t)]])"
      ]
     },
     "execution_count": 25,
     "metadata": {},
     "output_type": "execute_result"
    }
   ],
   "source": [
    "dpv = sp.Matrix(3,1, lambda i,j: p[i])\n",
    "dpv"
   ]
  },
  {
   "cell_type": "markdown",
   "id": "f8bdcb06",
   "metadata": {},
   "source": [
    "\\begin{equation}\n",
    " \\begin{cases}\n",
    " \\widehat{J}_{qq}\\dot{\\vec{\\omega}}_{qq} = \\sum_{j} \\vec{M}_{ext, j} + \\vec{M}_{air lift} - \\sum_{i} \\widehat{J}_{helix,   i}\\dot{\\vec{\\omega}}_{helix, i} - \\vec{\\omega}_{qq} \\times (\\widehat{J}_{qq}\\vec{\\omega}_{qq} + \\sum_{i} \\widehat{J}_{helix, i} \\vec{\\omega}_{helix, i}) \\\\\n",
    "   \\vec{\\dot{q}} = \\frac{1}{2}\\widehat{\\Omega}\\vec{q}\\\\\n",
    "   \\vec{F}_{grav} + \\widehat{R}(q(t))\\vec{F}_{lift} + \\vec{F}_{air} = \\dot{\\vec{p}}\\\\\n",
    " \\end{cases}\n",
    "\\end{equation}"
   ]
  },
  {
   "cell_type": "markdown",
   "id": "4cebb881",
   "metadata": {},
   "source": [
    "момент силы создаваемый одним из поднимающих винтов $\\vec{M}_{air lift} = \\vec{r}\\times\\ \\vec{F}_{lift} $ "
   ]
  },
  {
   "cell_type": "markdown",
   "id": "b1012e63",
   "metadata": {},
   "source": [
    "для удобства сразу предполагаю вид всех тензоров инерции диагональным"
   ]
  },
  {
   "cell_type": "code",
   "execution_count": 26,
   "id": "d75063d2",
   "metadata": {},
   "outputs": [],
   "source": [
    "Jqq =  sp.Matrix(3,3, lambda i,j: J_qq[3*i+j] if i == j else 0)\n",
    "J_helix_0 = sp.Matrix(3,3, lambda i,j: J_helix[3*i+j] if i == j else 0)\n",
    "J_helix_1 = sp.Matrix(3,3, lambda i,j: J_helix[3*i+j+9] if i == j else 0)\n",
    "J_helix_2 = sp.Matrix(3,3, lambda i,j: J_helix[3*i+j+18] if i == j else 0)\n",
    "J_helix_3 = sp.Matrix(3,3, lambda i,j: J_helix[3*i+j+27] if i == j else 0)"
   ]
  },
  {
   "cell_type": "code",
   "execution_count": 27,
   "id": "9f2662ec",
   "metadata": {},
   "outputs": [],
   "source": [
    "\"\"\"первоее векторное уравнение переписанное в явном виде\"\"\"\n",
    "right_part_first_equation = (Jqq.inv()*(Mext + Mairfit - (J_helix_0*w_helex_0_dot + J_helix_1*w_helex_1_dot + \n",
    "                             J_helix_2*w_helex_2_dot + J_helix_3*w_helex_3_dot)))"
   ]
  },
  {
   "cell_type": "code",
   "execution_count": 28,
   "id": "7796dd56",
   "metadata": {},
   "outputs": [],
   "source": [
    "right_part_first_equation = right_part_first_equation - sp.simplify(Jqq.inv()*(wqq.cross(Jqq*wqq + \n",
    "                            J_helix_0*w_helix_0 + J_helix_1*w_helix_1 + J_helix_2*w_helix_2 + J_helix_3*w_helix_3)))"
   ]
  },
  {
   "cell_type": "code",
   "execution_count": 29,
   "id": "43a8a9cc",
   "metadata": {},
   "outputs": [
    {
     "data": {
      "text/latex": [
       "$\\displaystyle \\left[\\begin{matrix}\\frac{- J^{helix}_{0 0 0} \\dot{w}^{helex_0}_0 - J^{helix}_{1 0 0} \\dot{w}^{helex_1}_0 - J^{helix}_{2 0 0} \\dot{w}^{helex_2}_0 - J^{helix}_{3 0 0} \\dot{w}^{helex_3}_0 + M^{airfit}_{0 0} + M^{airfit}_{1 0} + M^{airfit}_{2 0} + M^{airfit}_{3 0} + M^{ext}_{0} + \\left(J^{helix}_{0 1 1} w^{helix}_{0 1} + J^{helix}_{1 1 1} w^{helix}_{1 1} + J^{helix}_{2 1 1} w^{helix}_{2 1} + J^{helix}_{3 1 1} w^{helix}_{3 1} + J^{qq}_{1 1} w^{qq}_{1}{\\left(t \\right)}\\right) w^{qq}_{2}{\\left(t \\right)} - \\left(J^{helix}_{0 2 2} w^{helix}_{0 2} + J^{helix}_{1 2 2} w^{helix}_{1 2} + J^{helix}_{2 2 2} w^{helix}_{2 2} + J^{helix}_{3 2 2} w^{helix}_{3 2} + J^{qq}_{2 2} w^{qq}_{2}{\\left(t \\right)}\\right) w^{qq}_{1}{\\left(t \\right)}}{J^{qq}_{0 0}}\\\\\\frac{- J^{helix}_{0 1 1} \\dot{w}^{helex_0}_1 - J^{helix}_{1 1 1} \\dot{w}^{helex_1}_1 - J^{helix}_{2 1 1} \\dot{w}^{helex_2}_1 - J^{helix}_{3 1 1} \\dot{w}^{helex_3}_1 + M^{airfit}_{0 1} + M^{airfit}_{1 1} + M^{airfit}_{2 1} + M^{airfit}_{3 1} + M^{ext}_{1} - \\left(J^{helix}_{0 0 0} w^{helix}_{0 0} + J^{helix}_{1 0 0} w^{helix}_{1 0} + J^{helix}_{2 0 0} w^{helix}_{2 0} + J^{helix}_{3 0 0} w^{helix}_{3 0} + J^{qq}_{0 0} w^{qq}_{0}{\\left(t \\right)}\\right) w^{qq}_{2}{\\left(t \\right)} + \\left(J^{helix}_{0 2 2} w^{helix}_{0 2} + J^{helix}_{1 2 2} w^{helix}_{1 2} + J^{helix}_{2 2 2} w^{helix}_{2 2} + J^{helix}_{3 2 2} w^{helix}_{3 2} + J^{qq}_{2 2} w^{qq}_{2}{\\left(t \\right)}\\right) w^{qq}_{0}{\\left(t \\right)}}{J^{qq}_{1 1}}\\\\\\frac{- J^{helix}_{0 2 2} \\dot{w}^{helex_0}_2 - J^{helix}_{1 2 2} \\dot{w}^{helex_1}_2 - J^{helix}_{2 2 2} \\dot{w}^{helex_2}_2 - J^{helix}_{3 2 2} \\dot{w}^{helex_3}_2 + M^{airfit}_{0 2} + M^{airfit}_{1 2} + M^{airfit}_{2 2} + M^{airfit}_{3 2} + M^{ext}_{2} + \\left(J^{helix}_{0 0 0} w^{helix}_{0 0} + J^{helix}_{1 0 0} w^{helix}_{1 0} + J^{helix}_{2 0 0} w^{helix}_{2 0} + J^{helix}_{3 0 0} w^{helix}_{3 0} + J^{qq}_{0 0} w^{qq}_{0}{\\left(t \\right)}\\right) w^{qq}_{1}{\\left(t \\right)} - \\left(J^{helix}_{0 1 1} w^{helix}_{0 1} + J^{helix}_{1 1 1} w^{helix}_{1 1} + J^{helix}_{2 1 1} w^{helix}_{2 1} + J^{helix}_{3 1 1} w^{helix}_{3 1} + J^{qq}_{1 1} w^{qq}_{1}{\\left(t \\right)}\\right) w^{qq}_{0}{\\left(t \\right)}}{J^{qq}_{2 2}}\\end{matrix}\\right]$"
      ],
      "text/plain": [
       "Matrix([\n",
       "[(-J^helix_0_0_0*\\dot{w}^{helex_0}_0 - J^helix_1_0_0*\\dot{w}^{helex_1}_0 - J^helix_2_0_0*\\dot{w}^{helex_2}_0 - J^helix_3_0_0*\\dot{w}^{helex_3}_0 + M^airfit_0_0 + M^airfit_1_0 + M^airfit_2_0 + M^airfit_3_0 + M^ext_0 + (J^helix_0_1_1*w^helix_0_1 + J^helix_1_1_1*w^helix_1_1 + J^helix_2_1_1*w^helix_2_1 + J^helix_3_1_1*w^helix_3_1 + J^qq_1_1*w^qq_1(t))*w^qq_2(t) - (J^helix_0_2_2*w^helix_0_2 + J^helix_1_2_2*w^helix_1_2 + J^helix_2_2_2*w^helix_2_2 + J^helix_3_2_2*w^helix_3_2 + J^qq_2_2*w^qq_2(t))*w^qq_1(t))/J^qq_0_0],\n",
       "[(-J^helix_0_1_1*\\dot{w}^{helex_0}_1 - J^helix_1_1_1*\\dot{w}^{helex_1}_1 - J^helix_2_1_1*\\dot{w}^{helex_2}_1 - J^helix_3_1_1*\\dot{w}^{helex_3}_1 + M^airfit_0_1 + M^airfit_1_1 + M^airfit_2_1 + M^airfit_3_1 + M^ext_1 - (J^helix_0_0_0*w^helix_0_0 + J^helix_1_0_0*w^helix_1_0 + J^helix_2_0_0*w^helix_2_0 + J^helix_3_0_0*w^helix_3_0 + J^qq_0_0*w^qq_0(t))*w^qq_2(t) + (J^helix_0_2_2*w^helix_0_2 + J^helix_1_2_2*w^helix_1_2 + J^helix_2_2_2*w^helix_2_2 + J^helix_3_2_2*w^helix_3_2 + J^qq_2_2*w^qq_2(t))*w^qq_0(t))/J^qq_1_1],\n",
       "[(-J^helix_0_2_2*\\dot{w}^{helex_0}_2 - J^helix_1_2_2*\\dot{w}^{helex_1}_2 - J^helix_2_2_2*\\dot{w}^{helex_2}_2 - J^helix_3_2_2*\\dot{w}^{helex_3}_2 + M^airfit_0_2 + M^airfit_1_2 + M^airfit_2_2 + M^airfit_3_2 + M^ext_2 + (J^helix_0_0_0*w^helix_0_0 + J^helix_1_0_0*w^helix_1_0 + J^helix_2_0_0*w^helix_2_0 + J^helix_3_0_0*w^helix_3_0 + J^qq_0_0*w^qq_0(t))*w^qq_1(t) - (J^helix_0_1_1*w^helix_0_1 + J^helix_1_1_1*w^helix_1_1 + J^helix_2_1_1*w^helix_2_1 + J^helix_3_1_1*w^helix_3_1 + J^qq_1_1*w^qq_1(t))*w^qq_0(t))/J^qq_2_2]])"
      ]
     },
     "execution_count": 29,
     "metadata": {},
     "output_type": "execute_result"
    }
   ],
   "source": [
    "sp.simplify(right_part_first_equation)"
   ]
  },
  {
   "cell_type": "markdown",
   "id": "ac0eb653",
   "metadata": {},
   "source": [
    "или в явноми виде от этого\n",
    "\\begin{equation}\n",
    " \\dot{\\vec{\\omega}}_{qq} = \\widehat{J}^{-1}_{qq}(\\sum_{j} \\vec{M}_{ext, j} + \\vec{M}_{air lift} - \\sum_{i} \\widehat{J}_{helix,   i}\\dot{\\vec{\\omega}}_{helix, i} - \\vec{\\omega}_{qq} \\times (\\widehat{J}_{qq}\\vec{\\omega}_{qq} + \\sum_{i} \\widehat{J}_{helix, i} \\vec{\\omega}_{helix, i})) \n",
    "\\end{equation}"
   ]
  },
  {
   "cell_type": "code",
   "execution_count": 30,
   "id": "ebd325b6",
   "metadata": {},
   "outputs": [
    {
     "data": {
      "text/latex": [
       "$\\displaystyle \\left[\\begin{matrix}q_{0}{\\left(t \\right)}\\\\q_{1}{\\left(t \\right)}\\\\q_{2}{\\left(t \\right)}\\\\q_{3}{\\left(t \\right)}\\end{matrix}\\right]$"
      ],
      "text/plain": [
       "Matrix([\n",
       "[q_0(t)],\n",
       "[q_1(t)],\n",
       "[q_2(t)],\n",
       "[q_3(t)]])"
      ]
     },
     "execution_count": 30,
     "metadata": {},
     "output_type": "execute_result"
    }
   ],
   "source": [
    "qq = sp.Matrix(4,1, lambda i,j: q[i])\n",
    "qq"
   ]
  },
  {
   "cell_type": "code",
   "execution_count": 31,
   "id": "d042f958",
   "metadata": {},
   "outputs": [
    {
     "data": {
      "text/latex": [
       "$\\displaystyle \\left[\\begin{matrix}- 0.5 q_{1}{\\left(t \\right)} w^{qq}_{0}{\\left(t \\right)} - 0.5 q_{2}{\\left(t \\right)} w^{qq}_{1}{\\left(t \\right)} - 0.5 q_{3}{\\left(t \\right)} w^{qq}_{2}{\\left(t \\right)}\\\\0.5 q_{0}{\\left(t \\right)} w^{qq}_{0}{\\left(t \\right)} - 0.5 q_{2}{\\left(t \\right)} w^{qq}_{2}{\\left(t \\right)} + 0.5 q_{3}{\\left(t \\right)} w^{qq}_{1}{\\left(t \\right)}\\\\0.5 q_{0}{\\left(t \\right)} w^{qq}_{1}{\\left(t \\right)} + 0.5 q_{1}{\\left(t \\right)} w^{qq}_{2}{\\left(t \\right)} - 0.5 q_{3}{\\left(t \\right)} w^{qq}_{0}{\\left(t \\right)}\\\\0.5 q_{0}{\\left(t \\right)} w^{qq}_{2}{\\left(t \\right)} - 0.5 q_{1}{\\left(t \\right)} w^{qq}_{1}{\\left(t \\right)} + 0.5 q_{2}{\\left(t \\right)} w^{qq}_{0}{\\left(t \\right)}\\end{matrix}\\right]$"
      ],
      "text/plain": [
       "Matrix([\n",
       "[-0.5*q_1(t)*w^qq_0(t) - 0.5*q_2(t)*w^qq_1(t) - 0.5*q_3(t)*w^qq_2(t)],\n",
       "[ 0.5*q_0(t)*w^qq_0(t) - 0.5*q_2(t)*w^qq_2(t) + 0.5*q_3(t)*w^qq_1(t)],\n",
       "[ 0.5*q_0(t)*w^qq_1(t) + 0.5*q_1(t)*w^qq_2(t) - 0.5*q_3(t)*w^qq_0(t)],\n",
       "[ 0.5*q_0(t)*w^qq_2(t) - 0.5*q_1(t)*w^qq_1(t) + 0.5*q_2(t)*w^qq_0(t)]])"
      ]
     },
     "execution_count": 31,
     "metadata": {},
     "output_type": "execute_result"
    }
   ],
   "source": [
    "right_part_second_equation = 1/2 * OmegaTen*qq\n",
    "right_part_second_equation"
   ]
  },
  {
   "cell_type": "code",
   "execution_count": 32,
   "id": "354a83b5",
   "metadata": {},
   "outputs": [
    {
     "data": {
      "text/latex": [
       "$\\displaystyle \\left[\\begin{matrix}F^{grav}_{0} + F^{lift}_{0} \\left(q_{0}^{2}{\\left(t \\right)} + q_{1}^{2}{\\left(t \\right)} - q_{2}^{2}{\\left(t \\right)} - q_{3}^{2}{\\left(t \\right)}\\right) + F^{lift}_{1} \\left(- 2 q_{0}{\\left(t \\right)} q_{3}{\\left(t \\right)} + 2 q_{1}{\\left(t \\right)} q_{2}{\\left(t \\right)}\\right) + F^{lift}_{2} \\cdot \\left(2 q_{0}{\\left(t \\right)} q_{2}{\\left(t \\right)} + 2 q_{1}{\\left(t \\right)} q_{3}{\\left(t \\right)}\\right)\\\\F^{grav}_{1} + F^{lift}_{0} \\cdot \\left(2 q_{0}{\\left(t \\right)} q_{3}{\\left(t \\right)} + 2 q_{1}{\\left(t \\right)} q_{2}{\\left(t \\right)}\\right) + F^{lift}_{1} \\left(q_{0}^{2}{\\left(t \\right)} - q_{1}^{2}{\\left(t \\right)} + q_{2}^{2}{\\left(t \\right)} - q_{3}^{2}{\\left(t \\right)}\\right) + F^{lift}_{2} \\left(- 2 q_{0}{\\left(t \\right)} q_{1}{\\left(t \\right)} + 2 q_{2}{\\left(t \\right)} q_{3}{\\left(t \\right)}\\right)\\\\F^{grav}_{2} + F^{lift}_{0} \\left(- 2 q_{0}{\\left(t \\right)} q_{2}{\\left(t \\right)} + 2 q_{1}{\\left(t \\right)} q_{3}{\\left(t \\right)}\\right) + F^{lift}_{1} \\cdot \\left(2 q_{0}{\\left(t \\right)} q_{1}{\\left(t \\right)} + 2 q_{2}{\\left(t \\right)} q_{3}{\\left(t \\right)}\\right) + F^{lift}_{2} \\left(q_{0}^{2}{\\left(t \\right)} - q_{1}^{2}{\\left(t \\right)} - q_{2}^{2}{\\left(t \\right)} + q_{3}^{2}{\\left(t \\right)}\\right)\\end{matrix}\\right]$"
      ],
      "text/plain": [
       "Matrix([\n",
       "[F^grav_0 + F^lift_0*(q_0(t)**2 + q_1(t)**2 - q_2(t)**2 - q_3(t)**2) + F^lift_1*(-2*q_0(t)*q_3(t) + 2*q_1(t)*q_2(t)) + F^lift_2*(2*q_0(t)*q_2(t) + 2*q_1(t)*q_3(t))],\n",
       "[F^grav_1 + F^lift_0*(2*q_0(t)*q_3(t) + 2*q_1(t)*q_2(t)) + F^lift_1*(q_0(t)**2 - q_1(t)**2 + q_2(t)**2 - q_3(t)**2) + F^lift_2*(-2*q_0(t)*q_1(t) + 2*q_2(t)*q_3(t))],\n",
       "[F^grav_2 + F^lift_0*(-2*q_0(t)*q_2(t) + 2*q_1(t)*q_3(t)) + F^lift_1*(2*q_0(t)*q_1(t) + 2*q_2(t)*q_3(t)) + F^lift_2*(q_0(t)**2 - q_1(t)**2 - q_2(t)**2 + q_3(t)**2)]])"
      ]
     },
     "execution_count": 32,
     "metadata": {},
     "output_type": "execute_result"
    }
   ],
   "source": [
    "right_part_three_equation = (Fgrav + R_q*Flift)\n",
    "right_part_three_equation"
   ]
  },
  {
   "cell_type": "code",
   "execution_count": 33,
   "id": "68200f6a",
   "metadata": {},
   "outputs": [],
   "source": [
    "right_part_our = sp.Matrix.vstack(right_part_first_equation, right_part_second_equation, right_part_three_equation)"
   ]
  },
  {
   "cell_type": "code",
   "execution_count": 34,
   "id": "e12ae253",
   "metadata": {},
   "outputs": [
    {
     "data": {
      "text/latex": [
       "$\\displaystyle \\left[\\begin{matrix}- \\frac{- \\left(J^{helix}_{0 1 1} w^{helix}_{0 1} + J^{helix}_{1 1 1} w^{helix}_{1 1} + J^{helix}_{2 1 1} w^{helix}_{2 1} + J^{helix}_{3 1 1} w^{helix}_{3 1} + J^{qq}_{1 1} w^{qq}_{1}{\\left(t \\right)}\\right) w^{qq}_{2}{\\left(t \\right)} + \\left(J^{helix}_{0 2 2} w^{helix}_{0 2} + J^{helix}_{1 2 2} w^{helix}_{1 2} + J^{helix}_{2 2 2} w^{helix}_{2 2} + J^{helix}_{3 2 2} w^{helix}_{3 2} + J^{qq}_{2 2} w^{qq}_{2}{\\left(t \\right)}\\right) w^{qq}_{1}{\\left(t \\right)}}{J^{qq}_{0 0}} + \\frac{- J^{helix}_{0 0 0} \\dot{w}^{helex_0}_0 - J^{helix}_{1 0 0} \\dot{w}^{helex_1}_0 - J^{helix}_{2 0 0} \\dot{w}^{helex_2}_0 - J^{helix}_{3 0 0} \\dot{w}^{helex_3}_0 + M^{airfit}_{0 0} + M^{airfit}_{1 0} + M^{airfit}_{2 0} + M^{airfit}_{3 0} + M^{ext}_{0}}{J^{qq}_{0 0}}\\\\- \\frac{\\left(J^{helix}_{0 0 0} w^{helix}_{0 0} + J^{helix}_{1 0 0} w^{helix}_{1 0} + J^{helix}_{2 0 0} w^{helix}_{2 0} + J^{helix}_{3 0 0} w^{helix}_{3 0} + J^{qq}_{0 0} w^{qq}_{0}{\\left(t \\right)}\\right) w^{qq}_{2}{\\left(t \\right)} - \\left(J^{helix}_{0 2 2} w^{helix}_{0 2} + J^{helix}_{1 2 2} w^{helix}_{1 2} + J^{helix}_{2 2 2} w^{helix}_{2 2} + J^{helix}_{3 2 2} w^{helix}_{3 2} + J^{qq}_{2 2} w^{qq}_{2}{\\left(t \\right)}\\right) w^{qq}_{0}{\\left(t \\right)}}{J^{qq}_{1 1}} + \\frac{- J^{helix}_{0 1 1} \\dot{w}^{helex_0}_1 - J^{helix}_{1 1 1} \\dot{w}^{helex_1}_1 - J^{helix}_{2 1 1} \\dot{w}^{helex_2}_1 - J^{helix}_{3 1 1} \\dot{w}^{helex_3}_1 + M^{airfit}_{0 1} + M^{airfit}_{1 1} + M^{airfit}_{2 1} + M^{airfit}_{3 1} + M^{ext}_{1}}{J^{qq}_{1 1}}\\\\- \\frac{- \\left(J^{helix}_{0 0 0} w^{helix}_{0 0} + J^{helix}_{1 0 0} w^{helix}_{1 0} + J^{helix}_{2 0 0} w^{helix}_{2 0} + J^{helix}_{3 0 0} w^{helix}_{3 0} + J^{qq}_{0 0} w^{qq}_{0}{\\left(t \\right)}\\right) w^{qq}_{1}{\\left(t \\right)} + \\left(J^{helix}_{0 1 1} w^{helix}_{0 1} + J^{helix}_{1 1 1} w^{helix}_{1 1} + J^{helix}_{2 1 1} w^{helix}_{2 1} + J^{helix}_{3 1 1} w^{helix}_{3 1} + J^{qq}_{1 1} w^{qq}_{1}{\\left(t \\right)}\\right) w^{qq}_{0}{\\left(t \\right)}}{J^{qq}_{2 2}} + \\frac{- J^{helix}_{0 2 2} \\dot{w}^{helex_0}_2 - J^{helix}_{1 2 2} \\dot{w}^{helex_1}_2 - J^{helix}_{2 2 2} \\dot{w}^{helex_2}_2 - J^{helix}_{3 2 2} \\dot{w}^{helex_3}_2 + M^{airfit}_{0 2} + M^{airfit}_{1 2} + M^{airfit}_{2 2} + M^{airfit}_{3 2} + M^{ext}_{2}}{J^{qq}_{2 2}}\\\\- 0.5 q_{1}{\\left(t \\right)} w^{qq}_{0}{\\left(t \\right)} - 0.5 q_{2}{\\left(t \\right)} w^{qq}_{1}{\\left(t \\right)} - 0.5 q_{3}{\\left(t \\right)} w^{qq}_{2}{\\left(t \\right)}\\\\0.5 q_{0}{\\left(t \\right)} w^{qq}_{0}{\\left(t \\right)} - 0.5 q_{2}{\\left(t \\right)} w^{qq}_{2}{\\left(t \\right)} + 0.5 q_{3}{\\left(t \\right)} w^{qq}_{1}{\\left(t \\right)}\\\\0.5 q_{0}{\\left(t \\right)} w^{qq}_{1}{\\left(t \\right)} + 0.5 q_{1}{\\left(t \\right)} w^{qq}_{2}{\\left(t \\right)} - 0.5 q_{3}{\\left(t \\right)} w^{qq}_{0}{\\left(t \\right)}\\\\0.5 q_{0}{\\left(t \\right)} w^{qq}_{2}{\\left(t \\right)} - 0.5 q_{1}{\\left(t \\right)} w^{qq}_{1}{\\left(t \\right)} + 0.5 q_{2}{\\left(t \\right)} w^{qq}_{0}{\\left(t \\right)}\\\\F^{grav}_{0} + F^{lift}_{0} \\left(q_{0}^{2}{\\left(t \\right)} + q_{1}^{2}{\\left(t \\right)} - q_{2}^{2}{\\left(t \\right)} - q_{3}^{2}{\\left(t \\right)}\\right) + F^{lift}_{1} \\left(- 2 q_{0}{\\left(t \\right)} q_{3}{\\left(t \\right)} + 2 q_{1}{\\left(t \\right)} q_{2}{\\left(t \\right)}\\right) + F^{lift}_{2} \\cdot \\left(2 q_{0}{\\left(t \\right)} q_{2}{\\left(t \\right)} + 2 q_{1}{\\left(t \\right)} q_{3}{\\left(t \\right)}\\right)\\\\F^{grav}_{1} + F^{lift}_{0} \\cdot \\left(2 q_{0}{\\left(t \\right)} q_{3}{\\left(t \\right)} + 2 q_{1}{\\left(t \\right)} q_{2}{\\left(t \\right)}\\right) + F^{lift}_{1} \\left(q_{0}^{2}{\\left(t \\right)} - q_{1}^{2}{\\left(t \\right)} + q_{2}^{2}{\\left(t \\right)} - q_{3}^{2}{\\left(t \\right)}\\right) + F^{lift}_{2} \\left(- 2 q_{0}{\\left(t \\right)} q_{1}{\\left(t \\right)} + 2 q_{2}{\\left(t \\right)} q_{3}{\\left(t \\right)}\\right)\\\\F^{grav}_{2} + F^{lift}_{0} \\left(- 2 q_{0}{\\left(t \\right)} q_{2}{\\left(t \\right)} + 2 q_{1}{\\left(t \\right)} q_{3}{\\left(t \\right)}\\right) + F^{lift}_{1} \\cdot \\left(2 q_{0}{\\left(t \\right)} q_{1}{\\left(t \\right)} + 2 q_{2}{\\left(t \\right)} q_{3}{\\left(t \\right)}\\right) + F^{lift}_{2} \\left(q_{0}^{2}{\\left(t \\right)} - q_{1}^{2}{\\left(t \\right)} - q_{2}^{2}{\\left(t \\right)} + q_{3}^{2}{\\left(t \\right)}\\right)\\end{matrix}\\right]$"
      ],
      "text/plain": [
       "Matrix([\n",
       "[-(-(J^helix_0_1_1*w^helix_0_1 + J^helix_1_1_1*w^helix_1_1 + J^helix_2_1_1*w^helix_2_1 + J^helix_3_1_1*w^helix_3_1 + J^qq_1_1*w^qq_1(t))*w^qq_2(t) + (J^helix_0_2_2*w^helix_0_2 + J^helix_1_2_2*w^helix_1_2 + J^helix_2_2_2*w^helix_2_2 + J^helix_3_2_2*w^helix_3_2 + J^qq_2_2*w^qq_2(t))*w^qq_1(t))/J^qq_0_0 + (-J^helix_0_0_0*\\dot{w}^{helex_0}_0 - J^helix_1_0_0*\\dot{w}^{helex_1}_0 - J^helix_2_0_0*\\dot{w}^{helex_2}_0 - J^helix_3_0_0*\\dot{w}^{helex_3}_0 + M^airfit_0_0 + M^airfit_1_0 + M^airfit_2_0 + M^airfit_3_0 + M^ext_0)/J^qq_0_0],\n",
       "[ -((J^helix_0_0_0*w^helix_0_0 + J^helix_1_0_0*w^helix_1_0 + J^helix_2_0_0*w^helix_2_0 + J^helix_3_0_0*w^helix_3_0 + J^qq_0_0*w^qq_0(t))*w^qq_2(t) - (J^helix_0_2_2*w^helix_0_2 + J^helix_1_2_2*w^helix_1_2 + J^helix_2_2_2*w^helix_2_2 + J^helix_3_2_2*w^helix_3_2 + J^qq_2_2*w^qq_2(t))*w^qq_0(t))/J^qq_1_1 + (-J^helix_0_1_1*\\dot{w}^{helex_0}_1 - J^helix_1_1_1*\\dot{w}^{helex_1}_1 - J^helix_2_1_1*\\dot{w}^{helex_2}_1 - J^helix_3_1_1*\\dot{w}^{helex_3}_1 + M^airfit_0_1 + M^airfit_1_1 + M^airfit_2_1 + M^airfit_3_1 + M^ext_1)/J^qq_1_1],\n",
       "[-(-(J^helix_0_0_0*w^helix_0_0 + J^helix_1_0_0*w^helix_1_0 + J^helix_2_0_0*w^helix_2_0 + J^helix_3_0_0*w^helix_3_0 + J^qq_0_0*w^qq_0(t))*w^qq_1(t) + (J^helix_0_1_1*w^helix_0_1 + J^helix_1_1_1*w^helix_1_1 + J^helix_2_1_1*w^helix_2_1 + J^helix_3_1_1*w^helix_3_1 + J^qq_1_1*w^qq_1(t))*w^qq_0(t))/J^qq_2_2 + (-J^helix_0_2_2*\\dot{w}^{helex_0}_2 - J^helix_1_2_2*\\dot{w}^{helex_1}_2 - J^helix_2_2_2*\\dot{w}^{helex_2}_2 - J^helix_3_2_2*\\dot{w}^{helex_3}_2 + M^airfit_0_2 + M^airfit_1_2 + M^airfit_2_2 + M^airfit_3_2 + M^ext_2)/J^qq_2_2],\n",
       "[                                                                                                                                                                                                                                                                                                                                                                                                                                                                           -0.5*q_1(t)*w^qq_0(t) - 0.5*q_2(t)*w^qq_1(t) - 0.5*q_3(t)*w^qq_2(t)],\n",
       "[                                                                                                                                                                                                                                                                                                                                                                                                                                                                            0.5*q_0(t)*w^qq_0(t) - 0.5*q_2(t)*w^qq_2(t) + 0.5*q_3(t)*w^qq_1(t)],\n",
       "[                                                                                                                                                                                                                                                                                                                                                                                                                                                                            0.5*q_0(t)*w^qq_1(t) + 0.5*q_1(t)*w^qq_2(t) - 0.5*q_3(t)*w^qq_0(t)],\n",
       "[                                                                                                                                                                                                                                                                                                                                                                                                                                                                            0.5*q_0(t)*w^qq_2(t) - 0.5*q_1(t)*w^qq_1(t) + 0.5*q_2(t)*w^qq_0(t)],\n",
       "[                                                                                                                                                                                                                                                                                                                                                                            F^grav_0 + F^lift_0*(q_0(t)**2 + q_1(t)**2 - q_2(t)**2 - q_3(t)**2) + F^lift_1*(-2*q_0(t)*q_3(t) + 2*q_1(t)*q_2(t)) + F^lift_2*(2*q_0(t)*q_2(t) + 2*q_1(t)*q_3(t))],\n",
       "[                                                                                                                                                                                                                                                                                                                                                                            F^grav_1 + F^lift_0*(2*q_0(t)*q_3(t) + 2*q_1(t)*q_2(t)) + F^lift_1*(q_0(t)**2 - q_1(t)**2 + q_2(t)**2 - q_3(t)**2) + F^lift_2*(-2*q_0(t)*q_1(t) + 2*q_2(t)*q_3(t))],\n",
       "[                                                                                                                                                                                                                                                                                                                                                                            F^grav_2 + F^lift_0*(-2*q_0(t)*q_2(t) + 2*q_1(t)*q_3(t)) + F^lift_1*(2*q_0(t)*q_1(t) + 2*q_2(t)*q_3(t)) + F^lift_2*(q_0(t)**2 - q_1(t)**2 - q_2(t)**2 + q_3(t)**2)]])"
      ]
     },
     "execution_count": 34,
     "metadata": {},
     "output_type": "execute_result"
    }
   ],
   "source": [
    "right_part_our"
   ]
  },
  {
   "cell_type": "markdown",
   "id": "a39e7d03",
   "metadata": {},
   "source": [
    "функция Ляпунова для системы"
   ]
  },
  {
   "cell_type": "markdown",
   "id": "e462eb58",
   "metadata": {},
   "source": [
    "\\begin{equation}\n",
    " \\dot{\\vec{X}} = \\vec{f(\\vec{X})}\n",
    "\\end{equation}\n",
    "\n",
    "\\begin{equation}\n",
    " \\dot{V} = \\nabla V \\cdot f(\\vec{X})\n",
    "\\end{equation}"
   ]
  },
  {
   "cell_type": "code",
   "execution_count": 35,
   "id": "ed3e97e3",
   "metadata": {},
   "outputs": [
    {
     "data": {
      "text/latex": [
       "$\\displaystyle \\left[\\begin{matrix}0.5 J^{qq}_{0 0} \\left(w^{qq}_{0}\\right)^{2}{\\left(t \\right)} + 0.5 J^{qq}_{1 1} \\left(w^{qq}_{1}\\right)^{2}{\\left(t \\right)} + 0.5 J^{qq}_{2 2} \\left(w^{qq}_{2}\\right)^{2}{\\left(t \\right)} + 0.5 q_{0}^{2}{\\left(t \\right)} + 0.5 q_{1}^{2}{\\left(t \\right)} + 0.5 q_{2}^{2}{\\left(t \\right)} + 0.5 q_{3}^{2}{\\left(t \\right)} + \\frac{0.5 p_{0}^{2}{\\left(t \\right)}}{M_{qq}} + \\frac{0.5 p_{1}^{2}{\\left(t \\right)}}{M_{qq}} + \\frac{0.5 p_{2}^{2}{\\left(t \\right)}}{M_{qq}}\\end{matrix}\\right]$"
      ],
      "text/plain": [
       "Matrix([[0.5*J^qq_0_0*w^qq_0(t)**2 + 0.5*J^qq_1_1*w^qq_1(t)**2 + 0.5*J^qq_2_2*w^qq_2(t)**2 + 0.5*q_0(t)**2 + 0.5*q_1(t)**2 + 0.5*q_2(t)**2 + 0.5*q_3(t)**2 + 0.5*p_0(t)**2/M_qq + 0.5*p_1(t)**2/M_qq + 0.5*p_2(t)**2/M_qq]])"
      ]
     },
     "execution_count": 35,
     "metadata": {},
     "output_type": "execute_result"
    }
   ],
   "source": [
    "\"\"\"Символьный ввод функции Ляпунова, через квадратичную форму и энергетический подход\"\"\"\n",
    "Laypunov_func = 1/2 * wqq.T * Jqq * wqq + 1/2 * qq.T * qq + 1/2 * 1/Mqq * dpv.T*dpv\n",
    "\n",
    "Laypunov_func"
   ]
  },
  {
   "cell_type": "code",
   "execution_count": 36,
   "id": "92b4e428",
   "metadata": {},
   "outputs": [
    {
     "data": {
      "text/latex": [
       "$\\displaystyle \\left[\\begin{matrix}w^{qq}_{0}{\\left(t \\right)}\\\\w^{qq}_{1}{\\left(t \\right)}\\\\w^{qq}_{2}{\\left(t \\right)}\\\\q_{0}{\\left(t \\right)}\\\\q_{1}{\\left(t \\right)}\\\\q_{2}{\\left(t \\right)}\\\\q_{3}{\\left(t \\right)}\\\\p_{0}{\\left(t \\right)}\\\\p_{1}{\\left(t \\right)}\\\\p_{2}{\\left(t \\right)}\\end{matrix}\\right]$"
      ],
      "text/plain": [
       "Matrix([\n",
       "[w^qq_0(t)],\n",
       "[w^qq_1(t)],\n",
       "[w^qq_2(t)],\n",
       "[   q_0(t)],\n",
       "[   q_1(t)],\n",
       "[   q_2(t)],\n",
       "[   q_3(t)],\n",
       "[   p_0(t)],\n",
       "[   p_1(t)],\n",
       "[   p_2(t)]])"
      ]
     },
     "execution_count": 36,
     "metadata": {},
     "output_type": "execute_result"
    }
   ],
   "source": [
    "\"\"\"переменные по которым берем градиент\"\"\"\n",
    "var = sp.Matrix.vstack(wqq, qq, dpv)\n",
    "var"
   ]
  },
  {
   "cell_type": "code",
   "execution_count": 37,
   "id": "95063073",
   "metadata": {},
   "outputs": [
    {
     "data": {
      "text/latex": [
       "$\\displaystyle \\left[\\begin{matrix}1.0 J^{qq}_{0 0} w^{qq}_{0}{\\left(t \\right)}\\\\1.0 J^{qq}_{1 1} w^{qq}_{1}{\\left(t \\right)}\\\\1.0 J^{qq}_{2 2} w^{qq}_{2}{\\left(t \\right)}\\\\1.0 q_{0}{\\left(t \\right)}\\\\1.0 q_{1}{\\left(t \\right)}\\\\1.0 q_{2}{\\left(t \\right)}\\\\1.0 q_{3}{\\left(t \\right)}\\\\\\frac{1.0 p_{0}{\\left(t \\right)}}{M_{qq}}\\\\\\frac{1.0 p_{1}{\\left(t \\right)}}{M_{qq}}\\\\\\frac{1.0 p_{2}{\\left(t \\right)}}{M_{qq}}\\end{matrix}\\right]$"
      ],
      "text/plain": [
       "Matrix([\n",
       "[1.0*J^qq_0_0*w^qq_0(t)],\n",
       "[1.0*J^qq_1_1*w^qq_1(t)],\n",
       "[1.0*J^qq_2_2*w^qq_2(t)],\n",
       "[            1.0*q_0(t)],\n",
       "[            1.0*q_1(t)],\n",
       "[            1.0*q_2(t)],\n",
       "[            1.0*q_3(t)],\n",
       "[       1.0*p_0(t)/M_qq],\n",
       "[       1.0*p_1(t)/M_qq],\n",
       "[       1.0*p_2(t)/M_qq]])"
      ]
     },
     "execution_count": 37,
     "metadata": {},
     "output_type": "execute_result"
    }
   ],
   "source": [
    "\"\"\"Вычисление градиента функции Ляпунова\"\"\"\n",
    "num = 0\n",
    "for x in var:\n",
    "    if num == 0:\n",
    "        grad = Laypunov_func.diff(x)\n",
    "        num += 1\n",
    "    else:\n",
    "        grad = sp.Matrix.vstack(grad, Laypunov_func.diff(x))\n",
    "grad"
   ]
  },
  {
   "cell_type": "code",
   "execution_count": 38,
   "id": "5c3df892",
   "metadata": {},
   "outputs": [
    {
     "data": {
      "text/latex": [
       "$\\displaystyle 1.0 J^{qq}_{0 0} \\left(- \\frac{- \\left(J^{helix}_{0 1 1} w^{helix}_{0 1} + J^{helix}_{1 1 1} w^{helix}_{1 1} + J^{helix}_{2 1 1} w^{helix}_{2 1} + J^{helix}_{3 1 1} w^{helix}_{3 1} + J^{qq}_{1 1} w^{qq}_{1}{\\left(t \\right)}\\right) w^{qq}_{2}{\\left(t \\right)} + \\left(J^{helix}_{0 2 2} w^{helix}_{0 2} + J^{helix}_{1 2 2} w^{helix}_{1 2} + J^{helix}_{2 2 2} w^{helix}_{2 2} + J^{helix}_{3 2 2} w^{helix}_{3 2} + J^{qq}_{2 2} w^{qq}_{2}{\\left(t \\right)}\\right) w^{qq}_{1}{\\left(t \\right)}}{J^{qq}_{0 0}} + \\frac{- J^{helix}_{0 0 0} \\dot{w}^{helex_0}_0 - J^{helix}_{1 0 0} \\dot{w}^{helex_1}_0 - J^{helix}_{2 0 0} \\dot{w}^{helex_2}_0 - J^{helix}_{3 0 0} \\dot{w}^{helex_3}_0 + M^{airfit}_{0 0} + M^{airfit}_{1 0} + M^{airfit}_{2 0} + M^{airfit}_{3 0} + M^{ext}_{0}}{J^{qq}_{0 0}}\\right) w^{qq}_{0}{\\left(t \\right)} + 1.0 J^{qq}_{1 1} \\left(- \\frac{\\left(J^{helix}_{0 0 0} w^{helix}_{0 0} + J^{helix}_{1 0 0} w^{helix}_{1 0} + J^{helix}_{2 0 0} w^{helix}_{2 0} + J^{helix}_{3 0 0} w^{helix}_{3 0} + J^{qq}_{0 0} w^{qq}_{0}{\\left(t \\right)}\\right) w^{qq}_{2}{\\left(t \\right)} - \\left(J^{helix}_{0 2 2} w^{helix}_{0 2} + J^{helix}_{1 2 2} w^{helix}_{1 2} + J^{helix}_{2 2 2} w^{helix}_{2 2} + J^{helix}_{3 2 2} w^{helix}_{3 2} + J^{qq}_{2 2} w^{qq}_{2}{\\left(t \\right)}\\right) w^{qq}_{0}{\\left(t \\right)}}{J^{qq}_{1 1}} + \\frac{- J^{helix}_{0 1 1} \\dot{w}^{helex_0}_1 - J^{helix}_{1 1 1} \\dot{w}^{helex_1}_1 - J^{helix}_{2 1 1} \\dot{w}^{helex_2}_1 - J^{helix}_{3 1 1} \\dot{w}^{helex_3}_1 + M^{airfit}_{0 1} + M^{airfit}_{1 1} + M^{airfit}_{2 1} + M^{airfit}_{3 1} + M^{ext}_{1}}{J^{qq}_{1 1}}\\right) w^{qq}_{1}{\\left(t \\right)} + 1.0 J^{qq}_{2 2} \\left(- \\frac{- \\left(J^{helix}_{0 0 0} w^{helix}_{0 0} + J^{helix}_{1 0 0} w^{helix}_{1 0} + J^{helix}_{2 0 0} w^{helix}_{2 0} + J^{helix}_{3 0 0} w^{helix}_{3 0} + J^{qq}_{0 0} w^{qq}_{0}{\\left(t \\right)}\\right) w^{qq}_{1}{\\left(t \\right)} + \\left(J^{helix}_{0 1 1} w^{helix}_{0 1} + J^{helix}_{1 1 1} w^{helix}_{1 1} + J^{helix}_{2 1 1} w^{helix}_{2 1} + J^{helix}_{3 1 1} w^{helix}_{3 1} + J^{qq}_{1 1} w^{qq}_{1}{\\left(t \\right)}\\right) w^{qq}_{0}{\\left(t \\right)}}{J^{qq}_{2 2}} + \\frac{- J^{helix}_{0 2 2} \\dot{w}^{helex_0}_2 - J^{helix}_{1 2 2} \\dot{w}^{helex_1}_2 - J^{helix}_{2 2 2} \\dot{w}^{helex_2}_2 - J^{helix}_{3 2 2} \\dot{w}^{helex_3}_2 + M^{airfit}_{0 2} + M^{airfit}_{1 2} + M^{airfit}_{2 2} + M^{airfit}_{3 2} + M^{ext}_{2}}{J^{qq}_{2 2}}\\right) w^{qq}_{2}{\\left(t \\right)} + 1.0 \\cdot \\left(0.5 q_{0}{\\left(t \\right)} w^{qq}_{0}{\\left(t \\right)} - 0.5 q_{2}{\\left(t \\right)} w^{qq}_{2}{\\left(t \\right)} + 0.5 q_{3}{\\left(t \\right)} w^{qq}_{1}{\\left(t \\right)}\\right) q_{1}{\\left(t \\right)} + 1.0 \\cdot \\left(0.5 q_{0}{\\left(t \\right)} w^{qq}_{1}{\\left(t \\right)} + 0.5 q_{1}{\\left(t \\right)} w^{qq}_{2}{\\left(t \\right)} - 0.5 q_{3}{\\left(t \\right)} w^{qq}_{0}{\\left(t \\right)}\\right) q_{2}{\\left(t \\right)} + 1.0 \\cdot \\left(0.5 q_{0}{\\left(t \\right)} w^{qq}_{2}{\\left(t \\right)} - 0.5 q_{1}{\\left(t \\right)} w^{qq}_{1}{\\left(t \\right)} + 0.5 q_{2}{\\left(t \\right)} w^{qq}_{0}{\\left(t \\right)}\\right) q_{3}{\\left(t \\right)} + 1.0 \\left(- 0.5 q_{1}{\\left(t \\right)} w^{qq}_{0}{\\left(t \\right)} - 0.5 q_{2}{\\left(t \\right)} w^{qq}_{1}{\\left(t \\right)} - 0.5 q_{3}{\\left(t \\right)} w^{qq}_{2}{\\left(t \\right)}\\right) q_{0}{\\left(t \\right)} + \\frac{1.0 \\left(F^{grav}_{0} + F^{lift}_{0} \\left(q_{0}^{2}{\\left(t \\right)} + q_{1}^{2}{\\left(t \\right)} - q_{2}^{2}{\\left(t \\right)} - q_{3}^{2}{\\left(t \\right)}\\right) + F^{lift}_{1} \\left(- 2 q_{0}{\\left(t \\right)} q_{3}{\\left(t \\right)} + 2 q_{1}{\\left(t \\right)} q_{2}{\\left(t \\right)}\\right) + F^{lift}_{2} \\cdot \\left(2 q_{0}{\\left(t \\right)} q_{2}{\\left(t \\right)} + 2 q_{1}{\\left(t \\right)} q_{3}{\\left(t \\right)}\\right)\\right) p_{0}{\\left(t \\right)}}{M_{qq}} + \\frac{1.0 \\left(F^{grav}_{1} + F^{lift}_{0} \\cdot \\left(2 q_{0}{\\left(t \\right)} q_{3}{\\left(t \\right)} + 2 q_{1}{\\left(t \\right)} q_{2}{\\left(t \\right)}\\right) + F^{lift}_{1} \\left(q_{0}^{2}{\\left(t \\right)} - q_{1}^{2}{\\left(t \\right)} + q_{2}^{2}{\\left(t \\right)} - q_{3}^{2}{\\left(t \\right)}\\right) + F^{lift}_{2} \\left(- 2 q_{0}{\\left(t \\right)} q_{1}{\\left(t \\right)} + 2 q_{2}{\\left(t \\right)} q_{3}{\\left(t \\right)}\\right)\\right) p_{1}{\\left(t \\right)}}{M_{qq}} + \\frac{1.0 \\left(F^{grav}_{2} + F^{lift}_{0} \\left(- 2 q_{0}{\\left(t \\right)} q_{2}{\\left(t \\right)} + 2 q_{1}{\\left(t \\right)} q_{3}{\\left(t \\right)}\\right) + F^{lift}_{1} \\cdot \\left(2 q_{0}{\\left(t \\right)} q_{1}{\\left(t \\right)} + 2 q_{2}{\\left(t \\right)} q_{3}{\\left(t \\right)}\\right) + F^{lift}_{2} \\left(q_{0}^{2}{\\left(t \\right)} - q_{1}^{2}{\\left(t \\right)} - q_{2}^{2}{\\left(t \\right)} + q_{3}^{2}{\\left(t \\right)}\\right)\\right) p_{2}{\\left(t \\right)}}{M_{qq}}$"
      ],
      "text/plain": [
       "1.0*J^qq_0_0*(-(-(J^helix_0_1_1*w^helix_0_1 + J^helix_1_1_1*w^helix_1_1 + J^helix_2_1_1*w^helix_2_1 + J^helix_3_1_1*w^helix_3_1 + J^qq_1_1*w^qq_1(t))*w^qq_2(t) + (J^helix_0_2_2*w^helix_0_2 + J^helix_1_2_2*w^helix_1_2 + J^helix_2_2_2*w^helix_2_2 + J^helix_3_2_2*w^helix_3_2 + J^qq_2_2*w^qq_2(t))*w^qq_1(t))/J^qq_0_0 + (-J^helix_0_0_0*\\dot{w}^{helex_0}_0 - J^helix_1_0_0*\\dot{w}^{helex_1}_0 - J^helix_2_0_0*\\dot{w}^{helex_2}_0 - J^helix_3_0_0*\\dot{w}^{helex_3}_0 + M^airfit_0_0 + M^airfit_1_0 + M^airfit_2_0 + M^airfit_3_0 + M^ext_0)/J^qq_0_0)*w^qq_0(t) + 1.0*J^qq_1_1*(-((J^helix_0_0_0*w^helix_0_0 + J^helix_1_0_0*w^helix_1_0 + J^helix_2_0_0*w^helix_2_0 + J^helix_3_0_0*w^helix_3_0 + J^qq_0_0*w^qq_0(t))*w^qq_2(t) - (J^helix_0_2_2*w^helix_0_2 + J^helix_1_2_2*w^helix_1_2 + J^helix_2_2_2*w^helix_2_2 + J^helix_3_2_2*w^helix_3_2 + J^qq_2_2*w^qq_2(t))*w^qq_0(t))/J^qq_1_1 + (-J^helix_0_1_1*\\dot{w}^{helex_0}_1 - J^helix_1_1_1*\\dot{w}^{helex_1}_1 - J^helix_2_1_1*\\dot{w}^{helex_2}_1 - J^helix_3_1_1*\\dot{w}^{helex_3}_1 + M^airfit_0_1 + M^airfit_1_1 + M^airfit_2_1 + M^airfit_3_1 + M^ext_1)/J^qq_1_1)*w^qq_1(t) + 1.0*J^qq_2_2*(-(-(J^helix_0_0_0*w^helix_0_0 + J^helix_1_0_0*w^helix_1_0 + J^helix_2_0_0*w^helix_2_0 + J^helix_3_0_0*w^helix_3_0 + J^qq_0_0*w^qq_0(t))*w^qq_1(t) + (J^helix_0_1_1*w^helix_0_1 + J^helix_1_1_1*w^helix_1_1 + J^helix_2_1_1*w^helix_2_1 + J^helix_3_1_1*w^helix_3_1 + J^qq_1_1*w^qq_1(t))*w^qq_0(t))/J^qq_2_2 + (-J^helix_0_2_2*\\dot{w}^{helex_0}_2 - J^helix_1_2_2*\\dot{w}^{helex_1}_2 - J^helix_2_2_2*\\dot{w}^{helex_2}_2 - J^helix_3_2_2*\\dot{w}^{helex_3}_2 + M^airfit_0_2 + M^airfit_1_2 + M^airfit_2_2 + M^airfit_3_2 + M^ext_2)/J^qq_2_2)*w^qq_2(t) + 1.0*(0.5*q_0(t)*w^qq_0(t) - 0.5*q_2(t)*w^qq_2(t) + 0.5*q_3(t)*w^qq_1(t))*q_1(t) + 1.0*(0.5*q_0(t)*w^qq_1(t) + 0.5*q_1(t)*w^qq_2(t) - 0.5*q_3(t)*w^qq_0(t))*q_2(t) + 1.0*(0.5*q_0(t)*w^qq_2(t) - 0.5*q_1(t)*w^qq_1(t) + 0.5*q_2(t)*w^qq_0(t))*q_3(t) + 1.0*(-0.5*q_1(t)*w^qq_0(t) - 0.5*q_2(t)*w^qq_1(t) - 0.5*q_3(t)*w^qq_2(t))*q_0(t) + 1.0*(F^grav_0 + F^lift_0*(q_0(t)**2 + q_1(t)**2 - q_2(t)**2 - q_3(t)**2) + F^lift_1*(-2*q_0(t)*q_3(t) + 2*q_1(t)*q_2(t)) + F^lift_2*(2*q_0(t)*q_2(t) + 2*q_1(t)*q_3(t)))*p_0(t)/M_qq + 1.0*(F^grav_1 + F^lift_0*(2*q_0(t)*q_3(t) + 2*q_1(t)*q_2(t)) + F^lift_1*(q_0(t)**2 - q_1(t)**2 + q_2(t)**2 - q_3(t)**2) + F^lift_2*(-2*q_0(t)*q_1(t) + 2*q_2(t)*q_3(t)))*p_1(t)/M_qq + 1.0*(F^grav_2 + F^lift_0*(-2*q_0(t)*q_2(t) + 2*q_1(t)*q_3(t)) + F^lift_1*(2*q_0(t)*q_1(t) + 2*q_2(t)*q_3(t)) + F^lift_2*(q_0(t)**2 - q_1(t)**2 - q_2(t)**2 + q_3(t)**2))*p_2(t)/M_qq"
      ]
     },
     "execution_count": 38,
     "metadata": {},
     "output_type": "execute_result"
    }
   ],
   "source": [
    "\"\"\"правая часть уравнения скалярное произведение функции ляпнова и правых частей системы диффиренциальных уравнений движения\"\"\"\n",
    "lyapR = (grad.dot(right_part_our))\n",
    "lyapR"
   ]
  },
  {
   "cell_type": "code",
   "execution_count": 39,
   "id": "58adc4d8",
   "metadata": {},
   "outputs": [
    {
     "data": {
      "text/latex": [
       "$\\displaystyle \\left[\\begin{matrix}1.0 J^{qq}_{0 0} w^{qq}_{0}{\\left(t \\right)} \\frac{d}{d t} w^{qq}_{0}{\\left(t \\right)} + 1.0 J^{qq}_{1 1} w^{qq}_{1}{\\left(t \\right)} \\frac{d}{d t} w^{qq}_{1}{\\left(t \\right)} + 1.0 J^{qq}_{2 2} w^{qq}_{2}{\\left(t \\right)} \\frac{d}{d t} w^{qq}_{2}{\\left(t \\right)} + 1.0 q_{0}{\\left(t \\right)} \\frac{d}{d t} q_{0}{\\left(t \\right)} + 1.0 q_{1}{\\left(t \\right)} \\frac{d}{d t} q_{1}{\\left(t \\right)} + 1.0 q_{2}{\\left(t \\right)} \\frac{d}{d t} q_{2}{\\left(t \\right)} + 1.0 q_{3}{\\left(t \\right)} \\frac{d}{d t} q_{3}{\\left(t \\right)} + \\frac{1.0 p_{0}{\\left(t \\right)} \\frac{d}{d t} p_{0}{\\left(t \\right)}}{M_{qq}} + \\frac{1.0 p_{1}{\\left(t \\right)} \\frac{d}{d t} p_{1}{\\left(t \\right)}}{M_{qq}} + \\frac{1.0 p_{2}{\\left(t \\right)} \\frac{d}{d t} p_{2}{\\left(t \\right)}}{M_{qq}}\\end{matrix}\\right]$"
      ],
      "text/plain": [
       "Matrix([[1.0*J^qq_0_0*w^qq_0(t)*Derivative(w^qq_0(t), t) + 1.0*J^qq_1_1*w^qq_1(t)*Derivative(w^qq_1(t), t) + 1.0*J^qq_2_2*w^qq_2(t)*Derivative(w^qq_2(t), t) + 1.0*q_0(t)*Derivative(q_0(t), t) + 1.0*q_1(t)*Derivative(q_1(t), t) + 1.0*q_2(t)*Derivative(q_2(t), t) + 1.0*q_3(t)*Derivative(q_3(t), t) + 1.0*p_0(t)*Derivative(p_0(t), t)/M_qq + 1.0*p_1(t)*Derivative(p_1(t), t)/M_qq + 1.0*p_2(t)*Derivative(p_2(t), t)/M_qq]])"
      ]
     },
     "execution_count": 39,
     "metadata": {},
     "output_type": "execute_result"
    }
   ],
   "source": [
    "\"\"\"Производная по времени от функции Ляпунова\"\"\"\n",
    "Laypunov_func.diff(t)"
   ]
  },
  {
   "cell_type": "code",
   "execution_count": 40,
   "id": "2d4000cd",
   "metadata": {},
   "outputs": [
    {
     "data": {
      "text/latex": [
       "$\\displaystyle \\left[\\begin{matrix}\\frac{d}{d t} w^{qq}_{0}{\\left(t \\right)}\\\\\\frac{d}{d t} w^{qq}_{1}{\\left(t \\right)}\\\\\\frac{d}{d t} w^{qq}_{2}{\\left(t \\right)}\\\\\\frac{d}{d t} q_{0}{\\left(t \\right)}\\\\\\frac{d}{d t} q_{1}{\\left(t \\right)}\\\\\\frac{d}{d t} q_{2}{\\left(t \\right)}\\\\\\frac{d}{d t} q_{3}{\\left(t \\right)}\\\\\\frac{d}{d t} p_{0}{\\left(t \\right)}\\\\\\frac{d}{d t} p_{1}{\\left(t \\right)}\\\\\\frac{d}{d t} p_{2}{\\left(t \\right)}\\end{matrix}\\right]$"
      ],
      "text/plain": [
       "Matrix([\n",
       "[Derivative(w^qq_0(t), t)],\n",
       "[Derivative(w^qq_1(t), t)],\n",
       "[Derivative(w^qq_2(t), t)],\n",
       "[   Derivative(q_0(t), t)],\n",
       "[   Derivative(q_1(t), t)],\n",
       "[   Derivative(q_2(t), t)],\n",
       "[   Derivative(q_3(t), t)],\n",
       "[   Derivative(p_0(t), t)],\n",
       "[   Derivative(p_1(t), t)],\n",
       "[   Derivative(p_2(t), t)]])"
      ]
     },
     "execution_count": 40,
     "metadata": {},
     "output_type": "execute_result"
    }
   ],
   "source": [
    "var.diff(t)"
   ]
  },
  {
   "cell_type": "code",
   "execution_count": 41,
   "id": "e3a22978",
   "metadata": {},
   "outputs": [
    {
     "data": {
      "text/latex": [
       "$\\displaystyle \\left[\\begin{matrix}1.0 J^{qq}_{0 0} \\left(- \\frac{- \\left(J^{helix}_{0 1 1} w^{helix}_{0 1} + J^{helix}_{1 1 1} w^{helix}_{1 1} + J^{helix}_{2 1 1} w^{helix}_{2 1} + J^{helix}_{3 1 1} w^{helix}_{3 1} + J^{qq}_{1 1} w^{qq}_{1}{\\left(t \\right)}\\right) w^{qq}_{2}{\\left(t \\right)} + \\left(J^{helix}_{0 2 2} w^{helix}_{0 2} + J^{helix}_{1 2 2} w^{helix}_{1 2} + J^{helix}_{2 2 2} w^{helix}_{2 2} + J^{helix}_{3 2 2} w^{helix}_{3 2} + J^{qq}_{2 2} w^{qq}_{2}{\\left(t \\right)}\\right) w^{qq}_{1}{\\left(t \\right)}}{J^{qq}_{0 0}} + \\frac{- J^{helix}_{0 0 0} \\dot{w}^{helex_0}_0 - J^{helix}_{1 0 0} \\dot{w}^{helex_1}_0 - J^{helix}_{2 0 0} \\dot{w}^{helex_2}_0 - J^{helix}_{3 0 0} \\dot{w}^{helex_3}_0 + M^{airfit}_{0 0} + M^{airfit}_{1 0} + M^{airfit}_{2 0} + M^{airfit}_{3 0} + M^{ext}_{0}}{J^{qq}_{0 0}}\\right) w^{qq}_{0}{\\left(t \\right)} + 1.0 J^{qq}_{1 1} \\left(- \\frac{\\left(J^{helix}_{0 0 0} w^{helix}_{0 0} + J^{helix}_{1 0 0} w^{helix}_{1 0} + J^{helix}_{2 0 0} w^{helix}_{2 0} + J^{helix}_{3 0 0} w^{helix}_{3 0} + J^{qq}_{0 0} w^{qq}_{0}{\\left(t \\right)}\\right) w^{qq}_{2}{\\left(t \\right)} - \\left(J^{helix}_{0 2 2} w^{helix}_{0 2} + J^{helix}_{1 2 2} w^{helix}_{1 2} + J^{helix}_{2 2 2} w^{helix}_{2 2} + J^{helix}_{3 2 2} w^{helix}_{3 2} + J^{qq}_{2 2} w^{qq}_{2}{\\left(t \\right)}\\right) w^{qq}_{0}{\\left(t \\right)}}{J^{qq}_{1 1}} + \\frac{- J^{helix}_{0 1 1} \\dot{w}^{helex_0}_1 - J^{helix}_{1 1 1} \\dot{w}^{helex_1}_1 - J^{helix}_{2 1 1} \\dot{w}^{helex_2}_1 - J^{helix}_{3 1 1} \\dot{w}^{helex_3}_1 + M^{airfit}_{0 1} + M^{airfit}_{1 1} + M^{airfit}_{2 1} + M^{airfit}_{3 1} + M^{ext}_{1}}{J^{qq}_{1 1}}\\right) w^{qq}_{1}{\\left(t \\right)} + 1.0 J^{qq}_{2 2} \\left(- \\frac{- \\left(J^{helix}_{0 0 0} w^{helix}_{0 0} + J^{helix}_{1 0 0} w^{helix}_{1 0} + J^{helix}_{2 0 0} w^{helix}_{2 0} + J^{helix}_{3 0 0} w^{helix}_{3 0} + J^{qq}_{0 0} w^{qq}_{0}{\\left(t \\right)}\\right) w^{qq}_{1}{\\left(t \\right)} + \\left(J^{helix}_{0 1 1} w^{helix}_{0 1} + J^{helix}_{1 1 1} w^{helix}_{1 1} + J^{helix}_{2 1 1} w^{helix}_{2 1} + J^{helix}_{3 1 1} w^{helix}_{3 1} + J^{qq}_{1 1} w^{qq}_{1}{\\left(t \\right)}\\right) w^{qq}_{0}{\\left(t \\right)}}{J^{qq}_{2 2}} + \\frac{- J^{helix}_{0 2 2} \\dot{w}^{helex_0}_2 - J^{helix}_{1 2 2} \\dot{w}^{helex_1}_2 - J^{helix}_{2 2 2} \\dot{w}^{helex_2}_2 - J^{helix}_{3 2 2} \\dot{w}^{helex_3}_2 + M^{airfit}_{0 2} + M^{airfit}_{1 2} + M^{airfit}_{2 2} + M^{airfit}_{3 2} + M^{ext}_{2}}{J^{qq}_{2 2}}\\right) w^{qq}_{2}{\\left(t \\right)} + 1.0 \\cdot \\left(0.5 q_{0}{\\left(t \\right)} w^{qq}_{0}{\\left(t \\right)} - 0.5 q_{2}{\\left(t \\right)} w^{qq}_{2}{\\left(t \\right)} + 0.5 q_{3}{\\left(t \\right)} w^{qq}_{1}{\\left(t \\right)}\\right) q_{1}{\\left(t \\right)} + 1.0 \\cdot \\left(0.5 q_{0}{\\left(t \\right)} w^{qq}_{1}{\\left(t \\right)} + 0.5 q_{1}{\\left(t \\right)} w^{qq}_{2}{\\left(t \\right)} - 0.5 q_{3}{\\left(t \\right)} w^{qq}_{0}{\\left(t \\right)}\\right) q_{2}{\\left(t \\right)} + 1.0 \\cdot \\left(0.5 q_{0}{\\left(t \\right)} w^{qq}_{2}{\\left(t \\right)} - 0.5 q_{1}{\\left(t \\right)} w^{qq}_{1}{\\left(t \\right)} + 0.5 q_{2}{\\left(t \\right)} w^{qq}_{0}{\\left(t \\right)}\\right) q_{3}{\\left(t \\right)} + 1.0 \\left(- 0.5 q_{1}{\\left(t \\right)} w^{qq}_{0}{\\left(t \\right)} - 0.5 q_{2}{\\left(t \\right)} w^{qq}_{1}{\\left(t \\right)} - 0.5 q_{3}{\\left(t \\right)} w^{qq}_{2}{\\left(t \\right)}\\right) q_{0}{\\left(t \\right)} + \\frac{1.0 \\left(F^{grav}_{0} + F^{lift}_{0} \\left(q_{0}^{2}{\\left(t \\right)} + q_{1}^{2}{\\left(t \\right)} - q_{2}^{2}{\\left(t \\right)} - q_{3}^{2}{\\left(t \\right)}\\right) + F^{lift}_{1} \\left(- 2 q_{0}{\\left(t \\right)} q_{3}{\\left(t \\right)} + 2 q_{1}{\\left(t \\right)} q_{2}{\\left(t \\right)}\\right) + F^{lift}_{2} \\cdot \\left(2 q_{0}{\\left(t \\right)} q_{2}{\\left(t \\right)} + 2 q_{1}{\\left(t \\right)} q_{3}{\\left(t \\right)}\\right)\\right) p_{0}{\\left(t \\right)}}{M_{qq}} + \\frac{1.0 \\left(F^{grav}_{1} + F^{lift}_{0} \\cdot \\left(2 q_{0}{\\left(t \\right)} q_{3}{\\left(t \\right)} + 2 q_{1}{\\left(t \\right)} q_{2}{\\left(t \\right)}\\right) + F^{lift}_{1} \\left(q_{0}^{2}{\\left(t \\right)} - q_{1}^{2}{\\left(t \\right)} + q_{2}^{2}{\\left(t \\right)} - q_{3}^{2}{\\left(t \\right)}\\right) + F^{lift}_{2} \\left(- 2 q_{0}{\\left(t \\right)} q_{1}{\\left(t \\right)} + 2 q_{2}{\\left(t \\right)} q_{3}{\\left(t \\right)}\\right)\\right) p_{1}{\\left(t \\right)}}{M_{qq}} + \\frac{1.0 \\left(F^{grav}_{2} + F^{lift}_{0} \\left(- 2 q_{0}{\\left(t \\right)} q_{2}{\\left(t \\right)} + 2 q_{1}{\\left(t \\right)} q_{3}{\\left(t \\right)}\\right) + F^{lift}_{1} \\cdot \\left(2 q_{0}{\\left(t \\right)} q_{1}{\\left(t \\right)} + 2 q_{2}{\\left(t \\right)} q_{3}{\\left(t \\right)}\\right) + F^{lift}_{2} \\left(q_{0}^{2}{\\left(t \\right)} - q_{1}^{2}{\\left(t \\right)} - q_{2}^{2}{\\left(t \\right)} + q_{3}^{2}{\\left(t \\right)}\\right)\\right) p_{2}{\\left(t \\right)}}{M_{qq}}\\end{matrix}\\right]$"
      ],
      "text/plain": [
       "Matrix([[1.0*J^qq_0_0*(-(-(J^helix_0_1_1*w^helix_0_1 + J^helix_1_1_1*w^helix_1_1 + J^helix_2_1_1*w^helix_2_1 + J^helix_3_1_1*w^helix_3_1 + J^qq_1_1*w^qq_1(t))*w^qq_2(t) + (J^helix_0_2_2*w^helix_0_2 + J^helix_1_2_2*w^helix_1_2 + J^helix_2_2_2*w^helix_2_2 + J^helix_3_2_2*w^helix_3_2 + J^qq_2_2*w^qq_2(t))*w^qq_1(t))/J^qq_0_0 + (-J^helix_0_0_0*\\dot{w}^{helex_0}_0 - J^helix_1_0_0*\\dot{w}^{helex_1}_0 - J^helix_2_0_0*\\dot{w}^{helex_2}_0 - J^helix_3_0_0*\\dot{w}^{helex_3}_0 + M^airfit_0_0 + M^airfit_1_0 + M^airfit_2_0 + M^airfit_3_0 + M^ext_0)/J^qq_0_0)*w^qq_0(t) + 1.0*J^qq_1_1*(-((J^helix_0_0_0*w^helix_0_0 + J^helix_1_0_0*w^helix_1_0 + J^helix_2_0_0*w^helix_2_0 + J^helix_3_0_0*w^helix_3_0 + J^qq_0_0*w^qq_0(t))*w^qq_2(t) - (J^helix_0_2_2*w^helix_0_2 + J^helix_1_2_2*w^helix_1_2 + J^helix_2_2_2*w^helix_2_2 + J^helix_3_2_2*w^helix_3_2 + J^qq_2_2*w^qq_2(t))*w^qq_0(t))/J^qq_1_1 + (-J^helix_0_1_1*\\dot{w}^{helex_0}_1 - J^helix_1_1_1*\\dot{w}^{helex_1}_1 - J^helix_2_1_1*\\dot{w}^{helex_2}_1 - J^helix_3_1_1*\\dot{w}^{helex_3}_1 + M^airfit_0_1 + M^airfit_1_1 + M^airfit_2_1 + M^airfit_3_1 + M^ext_1)/J^qq_1_1)*w^qq_1(t) + 1.0*J^qq_2_2*(-(-(J^helix_0_0_0*w^helix_0_0 + J^helix_1_0_0*w^helix_1_0 + J^helix_2_0_0*w^helix_2_0 + J^helix_3_0_0*w^helix_3_0 + J^qq_0_0*w^qq_0(t))*w^qq_1(t) + (J^helix_0_1_1*w^helix_0_1 + J^helix_1_1_1*w^helix_1_1 + J^helix_2_1_1*w^helix_2_1 + J^helix_3_1_1*w^helix_3_1 + J^qq_1_1*w^qq_1(t))*w^qq_0(t))/J^qq_2_2 + (-J^helix_0_2_2*\\dot{w}^{helex_0}_2 - J^helix_1_2_2*\\dot{w}^{helex_1}_2 - J^helix_2_2_2*\\dot{w}^{helex_2}_2 - J^helix_3_2_2*\\dot{w}^{helex_3}_2 + M^airfit_0_2 + M^airfit_1_2 + M^airfit_2_2 + M^airfit_3_2 + M^ext_2)/J^qq_2_2)*w^qq_2(t) + 1.0*(0.5*q_0(t)*w^qq_0(t) - 0.5*q_2(t)*w^qq_2(t) + 0.5*q_3(t)*w^qq_1(t))*q_1(t) + 1.0*(0.5*q_0(t)*w^qq_1(t) + 0.5*q_1(t)*w^qq_2(t) - 0.5*q_3(t)*w^qq_0(t))*q_2(t) + 1.0*(0.5*q_0(t)*w^qq_2(t) - 0.5*q_1(t)*w^qq_1(t) + 0.5*q_2(t)*w^qq_0(t))*q_3(t) + 1.0*(-0.5*q_1(t)*w^qq_0(t) - 0.5*q_2(t)*w^qq_1(t) - 0.5*q_3(t)*w^qq_2(t))*q_0(t) + 1.0*(F^grav_0 + F^lift_0*(q_0(t)**2 + q_1(t)**2 - q_2(t)**2 - q_3(t)**2) + F^lift_1*(-2*q_0(t)*q_3(t) + 2*q_1(t)*q_2(t)) + F^lift_2*(2*q_0(t)*q_2(t) + 2*q_1(t)*q_3(t)))*p_0(t)/M_qq + 1.0*(F^grav_1 + F^lift_0*(2*q_0(t)*q_3(t) + 2*q_1(t)*q_2(t)) + F^lift_1*(q_0(t)**2 - q_1(t)**2 + q_2(t)**2 - q_3(t)**2) + F^lift_2*(-2*q_0(t)*q_1(t) + 2*q_2(t)*q_3(t)))*p_1(t)/M_qq + 1.0*(F^grav_2 + F^lift_0*(-2*q_0(t)*q_2(t) + 2*q_1(t)*q_3(t)) + F^lift_1*(2*q_0(t)*q_1(t) + 2*q_2(t)*q_3(t)) + F^lift_2*(q_0(t)**2 - q_1(t)**2 - q_2(t)**2 + q_3(t)**2))*p_2(t)/M_qq]])"
      ]
     },
     "execution_count": 41,
     "metadata": {},
     "output_type": "execute_result"
    }
   ],
   "source": [
    "laypdt = Laypunov_func.diff(t)\n",
    "for i in range(10):    \n",
    "    laypdt = laypdt.subs(var.diff(t)[i], right_part_our[i])\n",
    "laypdt"
   ]
  },
  {
   "cell_type": "code",
   "execution_count": 42,
   "id": "20a006c6",
   "metadata": {},
   "outputs": [
    {
     "data": {
      "text/latex": [
       "$\\displaystyle \\left[\\begin{matrix}0\\end{matrix}\\right]$"
      ],
      "text/plain": [
       "Matrix([[0]])"
      ]
     },
     "execution_count": 42,
     "metadata": {},
     "output_type": "execute_result"
    }
   ],
   "source": [
    "\"\"\"Проверка равенства производной от времени и градиента скалярно умноженного на функции дифф уравнения\"\"\"\n",
    "sp.Matrix([lyapR]) - laypdt"
   ]
  },
  {
   "cell_type": "markdown",
   "id": "d3f9e70d",
   "metadata": {},
   "source": [
    "По производной по времени из теоремы Барбашины - Красновского вытекают условия на асимптотическую устойчивость, из которых получим уравнение на управление лопастями."
   ]
  },
  {
   "cell_type": "code",
   "execution_count": 43,
   "id": "4c012e43",
   "metadata": {},
   "outputs": [
    {
     "data": {
      "text/latex": [
       "$\\displaystyle 1.0 J^{qq}_{0 0} \\left(- \\frac{- \\left(J^{helix}_{0 1 1} w^{helix}_{0 1} + J^{helix}_{1 1 1} w^{helix}_{1 1} + J^{helix}_{2 1 1} w^{helix}_{2 1} + J^{helix}_{3 1 1} w^{helix}_{3 1} + J^{qq}_{1 1} w^{qq}_{1}{\\left(t \\right)}\\right) w^{qq}_{2}{\\left(t \\right)} + \\left(J^{helix}_{0 2 2} w^{helix}_{0 2} + J^{helix}_{1 2 2} w^{helix}_{1 2} + J^{helix}_{2 2 2} w^{helix}_{2 2} + J^{helix}_{3 2 2} w^{helix}_{3 2} + J^{qq}_{2 2} w^{qq}_{2}{\\left(t \\right)}\\right) w^{qq}_{1}{\\left(t \\right)}}{J^{qq}_{0 0}} + \\frac{- J^{helix}_{0 0 0} \\dot{w}^{helex_0}_0 - J^{helix}_{1 0 0} \\dot{w}^{helex_1}_0 - J^{helix}_{2 0 0} \\dot{w}^{helex_2}_0 - J^{helix}_{3 0 0} \\dot{w}^{helex_3}_0 + M^{airfit}_{0 0} + M^{airfit}_{1 0} + M^{airfit}_{2 0} + M^{airfit}_{3 0} + M^{ext}_{0}}{J^{qq}_{0 0}}\\right) w^{qq}_{0}{\\left(t \\right)} + 1.0 J^{qq}_{1 1} \\left(- \\frac{\\left(J^{helix}_{0 0 0} w^{helix}_{0 0} + J^{helix}_{1 0 0} w^{helix}_{1 0} + J^{helix}_{2 0 0} w^{helix}_{2 0} + J^{helix}_{3 0 0} w^{helix}_{3 0} + J^{qq}_{0 0} w^{qq}_{0}{\\left(t \\right)}\\right) w^{qq}_{2}{\\left(t \\right)} - \\left(J^{helix}_{0 2 2} w^{helix}_{0 2} + J^{helix}_{1 2 2} w^{helix}_{1 2} + J^{helix}_{2 2 2} w^{helix}_{2 2} + J^{helix}_{3 2 2} w^{helix}_{3 2} + J^{qq}_{2 2} w^{qq}_{2}{\\left(t \\right)}\\right) w^{qq}_{0}{\\left(t \\right)}}{J^{qq}_{1 1}} + \\frac{- J^{helix}_{0 1 1} \\dot{w}^{helex_0}_1 - J^{helix}_{1 1 1} \\dot{w}^{helex_1}_1 - J^{helix}_{2 1 1} \\dot{w}^{helex_2}_1 - J^{helix}_{3 1 1} \\dot{w}^{helex_3}_1 + M^{airfit}_{0 1} + M^{airfit}_{1 1} + M^{airfit}_{2 1} + M^{airfit}_{3 1} + M^{ext}_{1}}{J^{qq}_{1 1}}\\right) w^{qq}_{1}{\\left(t \\right)} + 1.0 J^{qq}_{2 2} \\left(- \\frac{- \\left(J^{helix}_{0 0 0} w^{helix}_{0 0} + J^{helix}_{1 0 0} w^{helix}_{1 0} + J^{helix}_{2 0 0} w^{helix}_{2 0} + J^{helix}_{3 0 0} w^{helix}_{3 0} + J^{qq}_{0 0} w^{qq}_{0}{\\left(t \\right)}\\right) w^{qq}_{1}{\\left(t \\right)} + \\left(J^{helix}_{0 1 1} w^{helix}_{0 1} + J^{helix}_{1 1 1} w^{helix}_{1 1} + J^{helix}_{2 1 1} w^{helix}_{2 1} + J^{helix}_{3 1 1} w^{helix}_{3 1} + J^{qq}_{1 1} w^{qq}_{1}{\\left(t \\right)}\\right) w^{qq}_{0}{\\left(t \\right)}}{J^{qq}_{2 2}} + \\frac{- J^{helix}_{0 2 2} \\dot{w}^{helex_0}_2 - J^{helix}_{1 2 2} \\dot{w}^{helex_1}_2 - J^{helix}_{2 2 2} \\dot{w}^{helex_2}_2 - J^{helix}_{3 2 2} \\dot{w}^{helex_3}_2 + M^{airfit}_{0 2} + M^{airfit}_{1 2} + M^{airfit}_{2 2} + M^{airfit}_{3 2} + M^{ext}_{2}}{J^{qq}_{2 2}}\\right) w^{qq}_{2}{\\left(t \\right)} + 1.0 \\cdot \\left(0.5 q_{0}{\\left(t \\right)} w^{qq}_{0}{\\left(t \\right)} - 0.5 q_{2}{\\left(t \\right)} w^{qq}_{2}{\\left(t \\right)} + 0.5 q_{3}{\\left(t \\right)} w^{qq}_{1}{\\left(t \\right)}\\right) q_{1}{\\left(t \\right)} + 1.0 \\cdot \\left(0.5 q_{0}{\\left(t \\right)} w^{qq}_{1}{\\left(t \\right)} + 0.5 q_{1}{\\left(t \\right)} w^{qq}_{2}{\\left(t \\right)} - 0.5 q_{3}{\\left(t \\right)} w^{qq}_{0}{\\left(t \\right)}\\right) q_{2}{\\left(t \\right)} + 1.0 \\cdot \\left(0.5 q_{0}{\\left(t \\right)} w^{qq}_{2}{\\left(t \\right)} - 0.5 q_{1}{\\left(t \\right)} w^{qq}_{1}{\\left(t \\right)} + 0.5 q_{2}{\\left(t \\right)} w^{qq}_{0}{\\left(t \\right)}\\right) q_{3}{\\left(t \\right)} + 1.0 \\left(- 0.5 q_{1}{\\left(t \\right)} w^{qq}_{0}{\\left(t \\right)} - 0.5 q_{2}{\\left(t \\right)} w^{qq}_{1}{\\left(t \\right)} - 0.5 q_{3}{\\left(t \\right)} w^{qq}_{2}{\\left(t \\right)}\\right) q_{0}{\\left(t \\right)} + \\frac{1.0 \\left(F^{grav}_{0} + F^{lift}_{0} \\left(q_{0}^{2}{\\left(t \\right)} + q_{1}^{2}{\\left(t \\right)} - q_{2}^{2}{\\left(t \\right)} - q_{3}^{2}{\\left(t \\right)}\\right) + F^{lift}_{1} \\left(- 2 q_{0}{\\left(t \\right)} q_{3}{\\left(t \\right)} + 2 q_{1}{\\left(t \\right)} q_{2}{\\left(t \\right)}\\right) + F^{lift}_{2} \\cdot \\left(2 q_{0}{\\left(t \\right)} q_{2}{\\left(t \\right)} + 2 q_{1}{\\left(t \\right)} q_{3}{\\left(t \\right)}\\right)\\right) p_{0}{\\left(t \\right)}}{M_{qq}} + \\frac{1.0 \\left(F^{grav}_{1} + F^{lift}_{0} \\cdot \\left(2 q_{0}{\\left(t \\right)} q_{3}{\\left(t \\right)} + 2 q_{1}{\\left(t \\right)} q_{2}{\\left(t \\right)}\\right) + F^{lift}_{1} \\left(q_{0}^{2}{\\left(t \\right)} - q_{1}^{2}{\\left(t \\right)} + q_{2}^{2}{\\left(t \\right)} - q_{3}^{2}{\\left(t \\right)}\\right) + F^{lift}_{2} \\left(- 2 q_{0}{\\left(t \\right)} q_{1}{\\left(t \\right)} + 2 q_{2}{\\left(t \\right)} q_{3}{\\left(t \\right)}\\right)\\right) p_{1}{\\left(t \\right)}}{M_{qq}} + \\frac{1.0 \\left(F^{grav}_{2} + F^{lift}_{0} \\left(- 2 q_{0}{\\left(t \\right)} q_{2}{\\left(t \\right)} + 2 q_{1}{\\left(t \\right)} q_{3}{\\left(t \\right)}\\right) + F^{lift}_{1} \\cdot \\left(2 q_{0}{\\left(t \\right)} q_{1}{\\left(t \\right)} + 2 q_{2}{\\left(t \\right)} q_{3}{\\left(t \\right)}\\right) + F^{lift}_{2} \\left(q_{0}^{2}{\\left(t \\right)} - q_{1}^{2}{\\left(t \\right)} - q_{2}^{2}{\\left(t \\right)} + q_{3}^{2}{\\left(t \\right)}\\right)\\right) p_{2}{\\left(t \\right)}}{M_{qq}}$"
      ],
      "text/plain": [
       "1.0*J^qq_0_0*(-(-(J^helix_0_1_1*w^helix_0_1 + J^helix_1_1_1*w^helix_1_1 + J^helix_2_1_1*w^helix_2_1 + J^helix_3_1_1*w^helix_3_1 + J^qq_1_1*w^qq_1(t))*w^qq_2(t) + (J^helix_0_2_2*w^helix_0_2 + J^helix_1_2_2*w^helix_1_2 + J^helix_2_2_2*w^helix_2_2 + J^helix_3_2_2*w^helix_3_2 + J^qq_2_2*w^qq_2(t))*w^qq_1(t))/J^qq_0_0 + (-J^helix_0_0_0*\\dot{w}^{helex_0}_0 - J^helix_1_0_0*\\dot{w}^{helex_1}_0 - J^helix_2_0_0*\\dot{w}^{helex_2}_0 - J^helix_3_0_0*\\dot{w}^{helex_3}_0 + M^airfit_0_0 + M^airfit_1_0 + M^airfit_2_0 + M^airfit_3_0 + M^ext_0)/J^qq_0_0)*w^qq_0(t) + 1.0*J^qq_1_1*(-((J^helix_0_0_0*w^helix_0_0 + J^helix_1_0_0*w^helix_1_0 + J^helix_2_0_0*w^helix_2_0 + J^helix_3_0_0*w^helix_3_0 + J^qq_0_0*w^qq_0(t))*w^qq_2(t) - (J^helix_0_2_2*w^helix_0_2 + J^helix_1_2_2*w^helix_1_2 + J^helix_2_2_2*w^helix_2_2 + J^helix_3_2_2*w^helix_3_2 + J^qq_2_2*w^qq_2(t))*w^qq_0(t))/J^qq_1_1 + (-J^helix_0_1_1*\\dot{w}^{helex_0}_1 - J^helix_1_1_1*\\dot{w}^{helex_1}_1 - J^helix_2_1_1*\\dot{w}^{helex_2}_1 - J^helix_3_1_1*\\dot{w}^{helex_3}_1 + M^airfit_0_1 + M^airfit_1_1 + M^airfit_2_1 + M^airfit_3_1 + M^ext_1)/J^qq_1_1)*w^qq_1(t) + 1.0*J^qq_2_2*(-(-(J^helix_0_0_0*w^helix_0_0 + J^helix_1_0_0*w^helix_1_0 + J^helix_2_0_0*w^helix_2_0 + J^helix_3_0_0*w^helix_3_0 + J^qq_0_0*w^qq_0(t))*w^qq_1(t) + (J^helix_0_1_1*w^helix_0_1 + J^helix_1_1_1*w^helix_1_1 + J^helix_2_1_1*w^helix_2_1 + J^helix_3_1_1*w^helix_3_1 + J^qq_1_1*w^qq_1(t))*w^qq_0(t))/J^qq_2_2 + (-J^helix_0_2_2*\\dot{w}^{helex_0}_2 - J^helix_1_2_2*\\dot{w}^{helex_1}_2 - J^helix_2_2_2*\\dot{w}^{helex_2}_2 - J^helix_3_2_2*\\dot{w}^{helex_3}_2 + M^airfit_0_2 + M^airfit_1_2 + M^airfit_2_2 + M^airfit_3_2 + M^ext_2)/J^qq_2_2)*w^qq_2(t) + 1.0*(0.5*q_0(t)*w^qq_0(t) - 0.5*q_2(t)*w^qq_2(t) + 0.5*q_3(t)*w^qq_1(t))*q_1(t) + 1.0*(0.5*q_0(t)*w^qq_1(t) + 0.5*q_1(t)*w^qq_2(t) - 0.5*q_3(t)*w^qq_0(t))*q_2(t) + 1.0*(0.5*q_0(t)*w^qq_2(t) - 0.5*q_1(t)*w^qq_1(t) + 0.5*q_2(t)*w^qq_0(t))*q_3(t) + 1.0*(-0.5*q_1(t)*w^qq_0(t) - 0.5*q_2(t)*w^qq_1(t) - 0.5*q_3(t)*w^qq_2(t))*q_0(t) + 1.0*(F^grav_0 + F^lift_0*(q_0(t)**2 + q_1(t)**2 - q_2(t)**2 - q_3(t)**2) + F^lift_1*(-2*q_0(t)*q_3(t) + 2*q_1(t)*q_2(t)) + F^lift_2*(2*q_0(t)*q_2(t) + 2*q_1(t)*q_3(t)))*p_0(t)/M_qq + 1.0*(F^grav_1 + F^lift_0*(2*q_0(t)*q_3(t) + 2*q_1(t)*q_2(t)) + F^lift_1*(q_0(t)**2 - q_1(t)**2 + q_2(t)**2 - q_3(t)**2) + F^lift_2*(-2*q_0(t)*q_1(t) + 2*q_2(t)*q_3(t)))*p_1(t)/M_qq + 1.0*(F^grav_2 + F^lift_0*(-2*q_0(t)*q_2(t) + 2*q_1(t)*q_3(t)) + F^lift_1*(2*q_0(t)*q_1(t) + 2*q_2(t)*q_3(t)) + F^lift_2*(q_0(t)**2 - q_1(t)**2 - q_2(t)**2 + q_3(t)**2))*p_2(t)/M_qq"
      ]
     },
     "execution_count": 43,
     "metadata": {},
     "output_type": "execute_result"
    }
   ],
   "source": [
    "laypdt[0]"
   ]
  },
  {
   "cell_type": "code",
   "execution_count": 44,
   "id": "675912e7",
   "metadata": {},
   "outputs": [],
   "source": [
    "\"\"\"разделение выражения на части по слагаемым\"\"\"\n",
    "terms = laypdt[0].as_ordered_terms()"
   ]
  },
  {
   "cell_type": "markdown",
   "id": "20af7521",
   "metadata": {},
   "source": [
    "приведение выражения к виду скалярного произведения"
   ]
  },
  {
   "cell_type": "code",
   "execution_count": 45,
   "id": "ea8566a0",
   "metadata": {},
   "outputs": [
    {
     "data": {
      "text/latex": [
       "$\\displaystyle \\left[\\begin{matrix}- 1.0 J^{helix}_{0 0 0} \\dot{w}^{helex_0}_0 - 1.0 J^{helix}_{1 0 0} \\dot{w}^{helex_1}_0 - 1.0 J^{helix}_{2 0 0} \\dot{w}^{helex_2}_0 - 1.0 J^{helix}_{3 0 0} \\dot{w}^{helex_3}_0 + 1.0 M^{airfit}_{0 0} + 1.0 M^{airfit}_{1 0} + 1.0 M^{airfit}_{2 0} + 1.0 M^{airfit}_{3 0} + 1.0 M^{ext}_{0} + 1.0 \\left(J^{helix}_{0 1 1} w^{helix}_{0 1} + J^{helix}_{1 1 1} w^{helix}_{1 1} + J^{helix}_{2 1 1} w^{helix}_{2 1} + J^{helix}_{3 1 1} w^{helix}_{3 1} + J^{qq}_{1 1} w^{qq}_{1}{\\left(t \\right)}\\right) w^{qq}_{2}{\\left(t \\right)} - 1.0 \\left(J^{helix}_{0 2 2} w^{helix}_{0 2} + J^{helix}_{1 2 2} w^{helix}_{1 2} + J^{helix}_{2 2 2} w^{helix}_{2 2} + J^{helix}_{3 2 2} w^{helix}_{3 2} + J^{qq}_{2 2} w^{qq}_{2}{\\left(t \\right)}\\right) w^{qq}_{1}{\\left(t \\right)}\\\\- 1.0 J^{helix}_{0 1 1} \\dot{w}^{helex_0}_1 - 1.0 J^{helix}_{1 1 1} \\dot{w}^{helex_1}_1 - 1.0 J^{helix}_{2 1 1} \\dot{w}^{helex_2}_1 - 1.0 J^{helix}_{3 1 1} \\dot{w}^{helex_3}_1 + 1.0 M^{airfit}_{0 1} + 1.0 M^{airfit}_{1 1} + 1.0 M^{airfit}_{2 1} + 1.0 M^{airfit}_{3 1} + 1.0 M^{ext}_{1} - 1.0 \\left(J^{helix}_{0 0 0} w^{helix}_{0 0} + J^{helix}_{1 0 0} w^{helix}_{1 0} + J^{helix}_{2 0 0} w^{helix}_{2 0} + J^{helix}_{3 0 0} w^{helix}_{3 0} + J^{qq}_{0 0} w^{qq}_{0}{\\left(t \\right)}\\right) w^{qq}_{2}{\\left(t \\right)} + 1.0 \\left(J^{helix}_{0 2 2} w^{helix}_{0 2} + J^{helix}_{1 2 2} w^{helix}_{1 2} + J^{helix}_{2 2 2} w^{helix}_{2 2} + J^{helix}_{3 2 2} w^{helix}_{3 2} + J^{qq}_{2 2} w^{qq}_{2}{\\left(t \\right)}\\right) w^{qq}_{0}{\\left(t \\right)}\\\\- 1.0 J^{helix}_{0 2 2} \\dot{w}^{helex_0}_2 - 1.0 J^{helix}_{1 2 2} \\dot{w}^{helex_1}_2 - 1.0 J^{helix}_{2 2 2} \\dot{w}^{helex_2}_2 - 1.0 J^{helix}_{3 2 2} \\dot{w}^{helex_3}_2 + 1.0 M^{airfit}_{0 2} + 1.0 M^{airfit}_{1 2} + 1.0 M^{airfit}_{2 2} + 1.0 M^{airfit}_{3 2} + 1.0 M^{ext}_{2} + 1.0 \\left(J^{helix}_{0 0 0} w^{helix}_{0 0} + J^{helix}_{1 0 0} w^{helix}_{1 0} + J^{helix}_{2 0 0} w^{helix}_{2 0} + J^{helix}_{3 0 0} w^{helix}_{3 0} + J^{qq}_{0 0} w^{qq}_{0}{\\left(t \\right)}\\right) w^{qq}_{1}{\\left(t \\right)} - 1.0 \\left(J^{helix}_{0 1 1} w^{helix}_{0 1} + J^{helix}_{1 1 1} w^{helix}_{1 1} + J^{helix}_{2 1 1} w^{helix}_{2 1} + J^{helix}_{3 1 1} w^{helix}_{3 1} + J^{qq}_{1 1} w^{qq}_{1}{\\left(t \\right)}\\right) w^{qq}_{0}{\\left(t \\right)}\\end{matrix}\\right]$"
      ],
      "text/plain": [
       "Matrix([\n",
       "[-1.0*J^helix_0_0_0*\\dot{w}^{helex_0}_0 - 1.0*J^helix_1_0_0*\\dot{w}^{helex_1}_0 - 1.0*J^helix_2_0_0*\\dot{w}^{helex_2}_0 - 1.0*J^helix_3_0_0*\\dot{w}^{helex_3}_0 + 1.0*M^airfit_0_0 + 1.0*M^airfit_1_0 + 1.0*M^airfit_2_0 + 1.0*M^airfit_3_0 + 1.0*M^ext_0 + 1.0*(J^helix_0_1_1*w^helix_0_1 + J^helix_1_1_1*w^helix_1_1 + J^helix_2_1_1*w^helix_2_1 + J^helix_3_1_1*w^helix_3_1 + J^qq_1_1*w^qq_1(t))*w^qq_2(t) - 1.0*(J^helix_0_2_2*w^helix_0_2 + J^helix_1_2_2*w^helix_1_2 + J^helix_2_2_2*w^helix_2_2 + J^helix_3_2_2*w^helix_3_2 + J^qq_2_2*w^qq_2(t))*w^qq_1(t)],\n",
       "[-1.0*J^helix_0_1_1*\\dot{w}^{helex_0}_1 - 1.0*J^helix_1_1_1*\\dot{w}^{helex_1}_1 - 1.0*J^helix_2_1_1*\\dot{w}^{helex_2}_1 - 1.0*J^helix_3_1_1*\\dot{w}^{helex_3}_1 + 1.0*M^airfit_0_1 + 1.0*M^airfit_1_1 + 1.0*M^airfit_2_1 + 1.0*M^airfit_3_1 + 1.0*M^ext_1 - 1.0*(J^helix_0_0_0*w^helix_0_0 + J^helix_1_0_0*w^helix_1_0 + J^helix_2_0_0*w^helix_2_0 + J^helix_3_0_0*w^helix_3_0 + J^qq_0_0*w^qq_0(t))*w^qq_2(t) + 1.0*(J^helix_0_2_2*w^helix_0_2 + J^helix_1_2_2*w^helix_1_2 + J^helix_2_2_2*w^helix_2_2 + J^helix_3_2_2*w^helix_3_2 + J^qq_2_2*w^qq_2(t))*w^qq_0(t)],\n",
       "[-1.0*J^helix_0_2_2*\\dot{w}^{helex_0}_2 - 1.0*J^helix_1_2_2*\\dot{w}^{helex_1}_2 - 1.0*J^helix_2_2_2*\\dot{w}^{helex_2}_2 - 1.0*J^helix_3_2_2*\\dot{w}^{helex_3}_2 + 1.0*M^airfit_0_2 + 1.0*M^airfit_1_2 + 1.0*M^airfit_2_2 + 1.0*M^airfit_3_2 + 1.0*M^ext_2 + 1.0*(J^helix_0_0_0*w^helix_0_0 + J^helix_1_0_0*w^helix_1_0 + J^helix_2_0_0*w^helix_2_0 + J^helix_3_0_0*w^helix_3_0 + J^qq_0_0*w^qq_0(t))*w^qq_1(t) - 1.0*(J^helix_0_1_1*w^helix_0_1 + J^helix_1_1_1*w^helix_1_1 + J^helix_2_1_1*w^helix_2_1 + J^helix_3_1_1*w^helix_3_1 + J^qq_1_1*w^qq_1(t))*w^qq_0(t)]])"
      ]
     },
     "execution_count": 45,
     "metadata": {},
     "output_type": "execute_result"
    }
   ],
   "source": [
    "\"\"\"часть выражения содержащая условия на угловые скорости\"\"\"\n",
    "term_w = sp.Matrix([sp.simplify(terms[0])/wqq[0], sp.simplify(terms[1])/wqq[1], sp.simplify(terms[2])/wqq[2]]) #*wqq скалярно\n",
    "term_w"
   ]
  },
  {
   "cell_type": "code",
   "execution_count": 46,
   "id": "4fa2f271",
   "metadata": {},
   "outputs": [],
   "source": [
    "terms_ww_0 = (sp.simplify(terms[0])/wqq[0]).as_ordered_terms()\n",
    "terms_ww_1 = (sp.simplify(terms[1])/wqq[1]).as_ordered_terms()\n",
    "terms_ww_2 = (sp.simplify(terms[2])/wqq[2]).as_ordered_terms()"
   ]
  },
  {
   "cell_type": "code",
   "execution_count": 47,
   "id": "12220597",
   "metadata": {},
   "outputs": [
    {
     "data": {
      "text/latex": [
       "$\\displaystyle \\left[\\begin{matrix}- 1.0 J^{helix}_{0 0 0} \\dot{w}^{helex_0}_0\\\\- 1.0 J^{helix}_{0 1 1} \\dot{w}^{helex_0}_1\\\\- 1.0 J^{helix}_{0 2 2} \\dot{w}^{helex_0}_2\\end{matrix}\\right]$"
      ],
      "text/plain": [
       "Matrix([\n",
       "[-1.0*J^helix_0_0_0*\\dot{w}^{helex_0}_0],\n",
       "[-1.0*J^helix_0_1_1*\\dot{w}^{helex_0}_1],\n",
       "[-1.0*J^helix_0_2_2*\\dot{w}^{helex_0}_2]])"
      ]
     },
     "execution_count": 47,
     "metadata": {},
     "output_type": "execute_result"
    }
   ],
   "source": [
    "term_w_dot_helix_0 = sp.Matrix([terms_ww_0[0], terms_ww_1[0], terms_ww_2[0]]) \n",
    "term_w_dot_helix_0"
   ]
  },
  {
   "cell_type": "code",
   "execution_count": 48,
   "id": "27b88f34",
   "metadata": {},
   "outputs": [
    {
     "data": {
      "text/latex": [
       "$\\displaystyle \\left[\\begin{matrix}- 1.0 J^{helix}_{1 0 0} \\dot{w}^{helex_1}_0\\\\- 1.0 J^{helix}_{1 1 1} \\dot{w}^{helex_1}_1\\\\- 1.0 J^{helix}_{1 2 2} \\dot{w}^{helex_1}_2\\end{matrix}\\right]$"
      ],
      "text/plain": [
       "Matrix([\n",
       "[-1.0*J^helix_1_0_0*\\dot{w}^{helex_1}_0],\n",
       "[-1.0*J^helix_1_1_1*\\dot{w}^{helex_1}_1],\n",
       "[-1.0*J^helix_1_2_2*\\dot{w}^{helex_1}_2]])"
      ]
     },
     "execution_count": 48,
     "metadata": {},
     "output_type": "execute_result"
    }
   ],
   "source": [
    "term_w_dot_helix_1 = sp.Matrix([terms_ww_0[1], terms_ww_1[1], terms_ww_2[1]]) \n",
    "term_w_dot_helix_1"
   ]
  },
  {
   "cell_type": "code",
   "execution_count": 49,
   "id": "e5b238f8",
   "metadata": {},
   "outputs": [
    {
     "data": {
      "text/latex": [
       "$\\displaystyle \\left[\\begin{matrix}- 1.0 J^{helix}_{2 0 0} \\dot{w}^{helex_2}_0\\\\- 1.0 J^{helix}_{2 1 1} \\dot{w}^{helex_2}_1\\\\- 1.0 J^{helix}_{2 2 2} \\dot{w}^{helex_2}_2\\end{matrix}\\right]$"
      ],
      "text/plain": [
       "Matrix([\n",
       "[-1.0*J^helix_2_0_0*\\dot{w}^{helex_2}_0],\n",
       "[-1.0*J^helix_2_1_1*\\dot{w}^{helex_2}_1],\n",
       "[-1.0*J^helix_2_2_2*\\dot{w}^{helex_2}_2]])"
      ]
     },
     "execution_count": 49,
     "metadata": {},
     "output_type": "execute_result"
    }
   ],
   "source": [
    "term_w_dot_helix_2 = sp.Matrix([terms_ww_0[2], terms_ww_1[2], terms_ww_2[2]]) \n",
    "term_w_dot_helix_2"
   ]
  },
  {
   "cell_type": "code",
   "execution_count": 50,
   "id": "bc132e8b",
   "metadata": {},
   "outputs": [
    {
     "data": {
      "text/latex": [
       "$\\displaystyle \\left[\\begin{matrix}- 1.0 J^{helix}_{3 0 0} \\dot{w}^{helex_3}_0\\\\- 1.0 J^{helix}_{3 1 1} \\dot{w}^{helex_3}_1\\\\- 1.0 J^{helix}_{3 2 2} \\dot{w}^{helex_3}_2\\end{matrix}\\right]$"
      ],
      "text/plain": [
       "Matrix([\n",
       "[-1.0*J^helix_3_0_0*\\dot{w}^{helex_3}_0],\n",
       "[-1.0*J^helix_3_1_1*\\dot{w}^{helex_3}_1],\n",
       "[-1.0*J^helix_3_2_2*\\dot{w}^{helex_3}_2]])"
      ]
     },
     "execution_count": 50,
     "metadata": {},
     "output_type": "execute_result"
    }
   ],
   "source": [
    "term_w_dot_helix_3 = sp.Matrix([terms_ww_0[3], terms_ww_1[3], terms_ww_2[3]]) \n",
    "term_w_dot_helix_3"
   ]
  },
  {
   "cell_type": "code",
   "execution_count": 51,
   "id": "c0b48bf7",
   "metadata": {},
   "outputs": [
    {
     "data": {
      "text/latex": [
       "$\\displaystyle \\left[\\begin{matrix}1.0 M^{airfit}_{0 0}\\\\1.0 M^{airfit}_{0 1}\\\\1.0 M^{airfit}_{0 2}\\end{matrix}\\right]$"
      ],
      "text/plain": [
       "Matrix([\n",
       "[1.0*M^airfit_0_0],\n",
       "[1.0*M^airfit_0_1],\n",
       "[1.0*M^airfit_0_2]])"
      ]
     },
     "execution_count": 51,
     "metadata": {},
     "output_type": "execute_result"
    }
   ],
   "source": [
    "M_air_0 = sp.Matrix([terms_ww_0[4], terms_ww_1[4], terms_ww_2[4]]) \n",
    "M_air_0"
   ]
  },
  {
   "cell_type": "code",
   "execution_count": 52,
   "id": "108992b0",
   "metadata": {},
   "outputs": [
    {
     "data": {
      "text/latex": [
       "$\\displaystyle \\left[\\begin{matrix}1.0 M^{airfit}_{1 0}\\\\1.0 M^{airfit}_{1 1}\\\\1.0 M^{airfit}_{1 2}\\end{matrix}\\right]$"
      ],
      "text/plain": [
       "Matrix([\n",
       "[1.0*M^airfit_1_0],\n",
       "[1.0*M^airfit_1_1],\n",
       "[1.0*M^airfit_1_2]])"
      ]
     },
     "execution_count": 52,
     "metadata": {},
     "output_type": "execute_result"
    }
   ],
   "source": [
    "M_air_1 = sp.Matrix([terms_ww_0[5], terms_ww_1[5], terms_ww_2[5]]) \n",
    "M_air_1"
   ]
  },
  {
   "cell_type": "code",
   "execution_count": 53,
   "id": "fa25e00e",
   "metadata": {},
   "outputs": [
    {
     "data": {
      "text/latex": [
       "$\\displaystyle \\left[\\begin{matrix}1.0 M^{airfit}_{2 0}\\\\1.0 M^{airfit}_{2 1}\\\\1.0 M^{airfit}_{2 2}\\end{matrix}\\right]$"
      ],
      "text/plain": [
       "Matrix([\n",
       "[1.0*M^airfit_2_0],\n",
       "[1.0*M^airfit_2_1],\n",
       "[1.0*M^airfit_2_2]])"
      ]
     },
     "execution_count": 53,
     "metadata": {},
     "output_type": "execute_result"
    }
   ],
   "source": [
    "M_air_2 = sp.Matrix([terms_ww_0[6], terms_ww_1[6], terms_ww_2[6]]) \n",
    "M_air_2"
   ]
  },
  {
   "cell_type": "code",
   "execution_count": 54,
   "id": "5586eaf9",
   "metadata": {},
   "outputs": [
    {
     "data": {
      "text/latex": [
       "$\\displaystyle \\left[\\begin{matrix}1.0 M^{airfit}_{3 0}\\\\1.0 M^{airfit}_{3 1}\\\\1.0 M^{airfit}_{3 2}\\end{matrix}\\right]$"
      ],
      "text/plain": [
       "Matrix([\n",
       "[1.0*M^airfit_3_0],\n",
       "[1.0*M^airfit_3_1],\n",
       "[1.0*M^airfit_3_2]])"
      ]
     },
     "execution_count": 54,
     "metadata": {},
     "output_type": "execute_result"
    }
   ],
   "source": [
    "M_air_3 = sp.Matrix([terms_ww_0[7], terms_ww_1[7], terms_ww_2[7]]) \n",
    "M_air_3"
   ]
  },
  {
   "cell_type": "code",
   "execution_count": 55,
   "id": "c9c47761",
   "metadata": {},
   "outputs": [
    {
     "data": {
      "text/latex": [
       "$\\displaystyle \\left[\\begin{matrix}1.0 M^{ext}_{0}\\\\1.0 M^{ext}_{1}\\\\1.0 M^{ext}_{2}\\end{matrix}\\right]$"
      ],
      "text/plain": [
       "Matrix([\n",
       "[1.0*M^ext_0],\n",
       "[1.0*M^ext_1],\n",
       "[1.0*M^ext_2]])"
      ]
     },
     "execution_count": 55,
     "metadata": {},
     "output_type": "execute_result"
    }
   ],
   "source": [
    "M_ext = sp.Matrix([terms_ww_0[8], terms_ww_1[8], terms_ww_2[8]]) \n",
    "M_ext"
   ]
  },
  {
   "cell_type": "code",
   "execution_count": 56,
   "id": "33d67077",
   "metadata": {},
   "outputs": [
    {
     "data": {
      "text/latex": [
       "$\\displaystyle \\left[\\begin{matrix}1.0 \\left(J^{helix}_{0 1 1} w^{helix}_{0 1} + J^{helix}_{1 1 1} w^{helix}_{1 1} + J^{helix}_{2 1 1} w^{helix}_{2 1} + J^{helix}_{3 1 1} w^{helix}_{3 1} + J^{qq}_{1 1} w^{qq}_{1}{\\left(t \\right)}\\right) w^{qq}_{2}{\\left(t \\right)}\\\\- 1.0 \\left(J^{helix}_{0 0 0} w^{helix}_{0 0} + J^{helix}_{1 0 0} w^{helix}_{1 0} + J^{helix}_{2 0 0} w^{helix}_{2 0} + J^{helix}_{3 0 0} w^{helix}_{3 0} + J^{qq}_{0 0} w^{qq}_{0}{\\left(t \\right)}\\right) w^{qq}_{2}{\\left(t \\right)}\\\\1.0 \\left(J^{helix}_{0 0 0} w^{helix}_{0 0} + J^{helix}_{1 0 0} w^{helix}_{1 0} + J^{helix}_{2 0 0} w^{helix}_{2 0} + J^{helix}_{3 0 0} w^{helix}_{3 0} + J^{qq}_{0 0} w^{qq}_{0}{\\left(t \\right)}\\right) w^{qq}_{1}{\\left(t \\right)}\\end{matrix}\\right]$"
      ],
      "text/plain": [
       "Matrix([\n",
       "[ 1.0*(J^helix_0_1_1*w^helix_0_1 + J^helix_1_1_1*w^helix_1_1 + J^helix_2_1_1*w^helix_2_1 + J^helix_3_1_1*w^helix_3_1 + J^qq_1_1*w^qq_1(t))*w^qq_2(t)],\n",
       "[-1.0*(J^helix_0_0_0*w^helix_0_0 + J^helix_1_0_0*w^helix_1_0 + J^helix_2_0_0*w^helix_2_0 + J^helix_3_0_0*w^helix_3_0 + J^qq_0_0*w^qq_0(t))*w^qq_2(t)],\n",
       "[ 1.0*(J^helix_0_0_0*w^helix_0_0 + J^helix_1_0_0*w^helix_1_0 + J^helix_2_0_0*w^helix_2_0 + J^helix_3_0_0*w^helix_3_0 + J^qq_0_0*w^qq_0(t))*w^qq_1(t)]])"
      ]
     },
     "execution_count": 56,
     "metadata": {},
     "output_type": "execute_result"
    }
   ],
   "source": [
    "term_cross_0 = sp.Matrix([terms_ww_0[9], terms_ww_1[9], terms_ww_2[9]]) \n",
    "term_cross_0"
   ]
  },
  {
   "cell_type": "code",
   "execution_count": 57,
   "id": "9cf68a47",
   "metadata": {},
   "outputs": [
    {
     "data": {
      "text/latex": [
       "$\\displaystyle \\left[\\begin{matrix}- 1.0 \\left(J^{helix}_{0 2 2} w^{helix}_{0 2} + J^{helix}_{1 2 2} w^{helix}_{1 2} + J^{helix}_{2 2 2} w^{helix}_{2 2} + J^{helix}_{3 2 2} w^{helix}_{3 2} + J^{qq}_{2 2} w^{qq}_{2}{\\left(t \\right)}\\right) w^{qq}_{1}{\\left(t \\right)}\\\\1.0 \\left(J^{helix}_{0 2 2} w^{helix}_{0 2} + J^{helix}_{1 2 2} w^{helix}_{1 2} + J^{helix}_{2 2 2} w^{helix}_{2 2} + J^{helix}_{3 2 2} w^{helix}_{3 2} + J^{qq}_{2 2} w^{qq}_{2}{\\left(t \\right)}\\right) w^{qq}_{0}{\\left(t \\right)}\\\\- 1.0 \\left(J^{helix}_{0 1 1} w^{helix}_{0 1} + J^{helix}_{1 1 1} w^{helix}_{1 1} + J^{helix}_{2 1 1} w^{helix}_{2 1} + J^{helix}_{3 1 1} w^{helix}_{3 1} + J^{qq}_{1 1} w^{qq}_{1}{\\left(t \\right)}\\right) w^{qq}_{0}{\\left(t \\right)}\\end{matrix}\\right]$"
      ],
      "text/plain": [
       "Matrix([\n",
       "[-1.0*(J^helix_0_2_2*w^helix_0_2 + J^helix_1_2_2*w^helix_1_2 + J^helix_2_2_2*w^helix_2_2 + J^helix_3_2_2*w^helix_3_2 + J^qq_2_2*w^qq_2(t))*w^qq_1(t)],\n",
       "[ 1.0*(J^helix_0_2_2*w^helix_0_2 + J^helix_1_2_2*w^helix_1_2 + J^helix_2_2_2*w^helix_2_2 + J^helix_3_2_2*w^helix_3_2 + J^qq_2_2*w^qq_2(t))*w^qq_0(t)],\n",
       "[-1.0*(J^helix_0_1_1*w^helix_0_1 + J^helix_1_1_1*w^helix_1_1 + J^helix_2_1_1*w^helix_2_1 + J^helix_3_1_1*w^helix_3_1 + J^qq_1_1*w^qq_1(t))*w^qq_0(t)]])"
      ]
     },
     "execution_count": 57,
     "metadata": {},
     "output_type": "execute_result"
    }
   ],
   "source": [
    "term_cross_1 = sp.Matrix([terms_ww_0[10], terms_ww_1[10], terms_ww_2[10]]) \n",
    "term_cross_1"
   ]
  },
  {
   "cell_type": "code",
   "execution_count": 58,
   "id": "acb04c57",
   "metadata": {},
   "outputs": [
    {
     "data": {
      "text/latex": [
       "$\\displaystyle \\left[\\begin{matrix}0\\\\0\\\\0\\end{matrix}\\right]$"
      ],
      "text/plain": [
       "Matrix([\n",
       "[0],\n",
       "[0],\n",
       "[0]])"
      ]
     },
     "execution_count": 58,
     "metadata": {},
     "output_type": "execute_result"
    }
   ],
   "source": [
    "(term_cross_0+term_cross_1)+wqq.cross(Jqq*wqq + J_helix_0*w_helix_0 + J_helix_1*w_helix_1 + J_helix_2*w_helix_2 + J_helix_3*w_helix_3)"
   ]
  },
  {
   "cell_type": "code",
   "execution_count": 59,
   "id": "8f300fa8",
   "metadata": {},
   "outputs": [
    {
     "data": {
      "text/latex": [
       "$\\displaystyle 1.0 \\cdot \\left(0.5 q_{0}{\\left(t \\right)} w^{qq}_{0}{\\left(t \\right)} - 0.5 q_{2}{\\left(t \\right)} w^{qq}_{2}{\\left(t \\right)} + 0.5 q_{3}{\\left(t \\right)} w^{qq}_{1}{\\left(t \\right)}\\right) q_{1}{\\left(t \\right)} + 1.0 \\cdot \\left(0.5 q_{0}{\\left(t \\right)} w^{qq}_{1}{\\left(t \\right)} + 0.5 q_{1}{\\left(t \\right)} w^{qq}_{2}{\\left(t \\right)} - 0.5 q_{3}{\\left(t \\right)} w^{qq}_{0}{\\left(t \\right)}\\right) q_{2}{\\left(t \\right)} + 1.0 \\cdot \\left(0.5 q_{0}{\\left(t \\right)} w^{qq}_{2}{\\left(t \\right)} - 0.5 q_{1}{\\left(t \\right)} w^{qq}_{1}{\\left(t \\right)} + 0.5 q_{2}{\\left(t \\right)} w^{qq}_{0}{\\left(t \\right)}\\right) q_{3}{\\left(t \\right)} + 1.0 \\left(- 0.5 q_{1}{\\left(t \\right)} w^{qq}_{0}{\\left(t \\right)} - 0.5 q_{2}{\\left(t \\right)} w^{qq}_{1}{\\left(t \\right)} - 0.5 q_{3}{\\left(t \\right)} w^{qq}_{2}{\\left(t \\right)}\\right) q_{0}{\\left(t \\right)}$"
      ],
      "text/plain": [
       "1.0*(0.5*q_0(t)*w^qq_0(t) - 0.5*q_2(t)*w^qq_2(t) + 0.5*q_3(t)*w^qq_1(t))*q_1(t) + 1.0*(0.5*q_0(t)*w^qq_1(t) + 0.5*q_1(t)*w^qq_2(t) - 0.5*q_3(t)*w^qq_0(t))*q_2(t) + 1.0*(0.5*q_0(t)*w^qq_2(t) - 0.5*q_1(t)*w^qq_1(t) + 0.5*q_2(t)*w^qq_0(t))*q_3(t) + 1.0*(-0.5*q_1(t)*w^qq_0(t) - 0.5*q_2(t)*w^qq_1(t) - 0.5*q_3(t)*w^qq_2(t))*q_0(t)"
      ]
     },
     "execution_count": 59,
     "metadata": {},
     "output_type": "execute_result"
    }
   ],
   "source": [
    "quat_term = terms[3]+terms[4]+terms[5]+terms[6]\n",
    "quat_term"
   ]
  },
  {
   "cell_type": "code",
   "execution_count": 60,
   "id": "6ecc3534",
   "metadata": {},
   "outputs": [
    {
     "data": {
      "text/latex": [
       "$\\displaystyle \\left[\\begin{matrix}- 0.5 q_{1}{\\left(t \\right)} w^{qq}_{0}{\\left(t \\right)} - 0.5 q_{2}{\\left(t \\right)} w^{qq}_{1}{\\left(t \\right)} - 0.5 q_{3}{\\left(t \\right)} w^{qq}_{2}{\\left(t \\right)}\\\\0.5 q_{0}{\\left(t \\right)} w^{qq}_{0}{\\left(t \\right)} - 0.5 q_{2}{\\left(t \\right)} w^{qq}_{2}{\\left(t \\right)} + 0.5 q_{3}{\\left(t \\right)} w^{qq}_{1}{\\left(t \\right)}\\\\0.5 q_{0}{\\left(t \\right)} w^{qq}_{1}{\\left(t \\right)} + 0.5 q_{1}{\\left(t \\right)} w^{qq}_{2}{\\left(t \\right)} - 0.5 q_{3}{\\left(t \\right)} w^{qq}_{0}{\\left(t \\right)}\\\\0.5 q_{0}{\\left(t \\right)} w^{qq}_{2}{\\left(t \\right)} - 0.5 q_{1}{\\left(t \\right)} w^{qq}_{1}{\\left(t \\right)} + 0.5 q_{2}{\\left(t \\right)} w^{qq}_{0}{\\left(t \\right)}\\end{matrix}\\right]$"
      ],
      "text/plain": [
       "Matrix([\n",
       "[-0.5*q_1(t)*w^qq_0(t) - 0.5*q_2(t)*w^qq_1(t) - 0.5*q_3(t)*w^qq_2(t)],\n",
       "[ 0.5*q_0(t)*w^qq_0(t) - 0.5*q_2(t)*w^qq_2(t) + 0.5*q_3(t)*w^qq_1(t)],\n",
       "[ 0.5*q_0(t)*w^qq_1(t) + 0.5*q_1(t)*w^qq_2(t) - 0.5*q_3(t)*w^qq_0(t)],\n",
       "[ 0.5*q_0(t)*w^qq_2(t) - 0.5*q_1(t)*w^qq_1(t) + 0.5*q_2(t)*w^qq_0(t)]])"
      ]
     },
     "execution_count": 60,
     "metadata": {},
     "output_type": "execute_result"
    }
   ],
   "source": [
    "quat_term_vec = sp.Matrix([terms[6]/q[0], terms[3]/q[1], terms[4]/q[2], terms[5]/q[3]])\n",
    "quat_term_vec"
   ]
  },
  {
   "cell_type": "code",
   "execution_count": 61,
   "id": "92117f2a",
   "metadata": {},
   "outputs": [
    {
     "data": {
      "text/latex": [
       "$\\displaystyle \\left[\\begin{matrix}- 0.5 q_{1}{\\left(t \\right)} w^{qq}_{0}{\\left(t \\right)} - 0.5 q_{2}{\\left(t \\right)} w^{qq}_{1}{\\left(t \\right)} - 0.5 q_{3}{\\left(t \\right)} w^{qq}_{2}{\\left(t \\right)}\\\\0.5 q_{0}{\\left(t \\right)} w^{qq}_{0}{\\left(t \\right)} - 0.5 q_{2}{\\left(t \\right)} w^{qq}_{2}{\\left(t \\right)} + 0.5 q_{3}{\\left(t \\right)} w^{qq}_{1}{\\left(t \\right)}\\\\0.5 q_{0}{\\left(t \\right)} w^{qq}_{1}{\\left(t \\right)} + 0.5 q_{1}{\\left(t \\right)} w^{qq}_{2}{\\left(t \\right)} - 0.5 q_{3}{\\left(t \\right)} w^{qq}_{0}{\\left(t \\right)}\\\\0.5 q_{0}{\\left(t \\right)} w^{qq}_{2}{\\left(t \\right)} - 0.5 q_{1}{\\left(t \\right)} w^{qq}_{1}{\\left(t \\right)} + 0.5 q_{2}{\\left(t \\right)} w^{qq}_{0}{\\left(t \\right)}\\end{matrix}\\right]$"
      ],
      "text/plain": [
       "Matrix([\n",
       "[-0.5*q_1(t)*w^qq_0(t) - 0.5*q_2(t)*w^qq_1(t) - 0.5*q_3(t)*w^qq_2(t)],\n",
       "[ 0.5*q_0(t)*w^qq_0(t) - 0.5*q_2(t)*w^qq_2(t) + 0.5*q_3(t)*w^qq_1(t)],\n",
       "[ 0.5*q_0(t)*w^qq_1(t) + 0.5*q_1(t)*w^qq_2(t) - 0.5*q_3(t)*w^qq_0(t)],\n",
       "[ 0.5*q_0(t)*w^qq_2(t) - 0.5*q_1(t)*w^qq_1(t) + 0.5*q_2(t)*w^qq_0(t)]])"
      ]
     },
     "execution_count": 61,
     "metadata": {},
     "output_type": "execute_result"
    }
   ],
   "source": [
    "right_part_second_equation"
   ]
  },
  {
   "cell_type": "code",
   "execution_count": 62,
   "id": "e7374c62",
   "metadata": {},
   "outputs": [
    {
     "data": {
      "text/latex": [
       "$\\displaystyle \\left[\\begin{matrix}F^{grav}_{0} + F^{lift}_{0} \\left(q_{0}^{2}{\\left(t \\right)} + q_{1}^{2}{\\left(t \\right)} - q_{2}^{2}{\\left(t \\right)} - q_{3}^{2}{\\left(t \\right)}\\right) + F^{lift}_{1} \\left(- 2 q_{0}{\\left(t \\right)} q_{3}{\\left(t \\right)} + 2 q_{1}{\\left(t \\right)} q_{2}{\\left(t \\right)}\\right) + F^{lift}_{2} \\cdot \\left(2 q_{0}{\\left(t \\right)} q_{2}{\\left(t \\right)} + 2 q_{1}{\\left(t \\right)} q_{3}{\\left(t \\right)}\\right)\\\\F^{grav}_{1} + F^{lift}_{0} \\cdot \\left(2 q_{0}{\\left(t \\right)} q_{3}{\\left(t \\right)} + 2 q_{1}{\\left(t \\right)} q_{2}{\\left(t \\right)}\\right) + F^{lift}_{1} \\left(q_{0}^{2}{\\left(t \\right)} - q_{1}^{2}{\\left(t \\right)} + q_{2}^{2}{\\left(t \\right)} - q_{3}^{2}{\\left(t \\right)}\\right) + F^{lift}_{2} \\left(- 2 q_{0}{\\left(t \\right)} q_{1}{\\left(t \\right)} + 2 q_{2}{\\left(t \\right)} q_{3}{\\left(t \\right)}\\right)\\\\F^{grav}_{2} + F^{lift}_{0} \\left(- 2 q_{0}{\\left(t \\right)} q_{2}{\\left(t \\right)} + 2 q_{1}{\\left(t \\right)} q_{3}{\\left(t \\right)}\\right) + F^{lift}_{1} \\cdot \\left(2 q_{0}{\\left(t \\right)} q_{1}{\\left(t \\right)} + 2 q_{2}{\\left(t \\right)} q_{3}{\\left(t \\right)}\\right) + F^{lift}_{2} \\left(q_{0}^{2}{\\left(t \\right)} - q_{1}^{2}{\\left(t \\right)} - q_{2}^{2}{\\left(t \\right)} + q_{3}^{2}{\\left(t \\right)}\\right)\\end{matrix}\\right]$"
      ],
      "text/plain": [
       "Matrix([\n",
       "[F^grav_0 + F^lift_0*(q_0(t)**2 + q_1(t)**2 - q_2(t)**2 - q_3(t)**2) + F^lift_1*(-2*q_0(t)*q_3(t) + 2*q_1(t)*q_2(t)) + F^lift_2*(2*q_0(t)*q_2(t) + 2*q_1(t)*q_3(t))],\n",
       "[F^grav_1 + F^lift_0*(2*q_0(t)*q_3(t) + 2*q_1(t)*q_2(t)) + F^lift_1*(q_0(t)**2 - q_1(t)**2 + q_2(t)**2 - q_3(t)**2) + F^lift_2*(-2*q_0(t)*q_1(t) + 2*q_2(t)*q_3(t))],\n",
       "[F^grav_2 + F^lift_0*(-2*q_0(t)*q_2(t) + 2*q_1(t)*q_3(t)) + F^lift_1*(2*q_0(t)*q_1(t) + 2*q_2(t)*q_3(t)) + F^lift_2*(q_0(t)**2 - q_1(t)**2 - q_2(t)**2 + q_3(t)**2)]])"
      ]
     },
     "execution_count": 62,
     "metadata": {},
     "output_type": "execute_result"
    }
   ],
   "source": [
    "right_part_three_equation"
   ]
  },
  {
   "cell_type": "code",
   "execution_count": 63,
   "id": "36eac26e",
   "metadata": {},
   "outputs": [
    {
     "data": {
      "text/latex": [
       "$\\displaystyle \\left[\\begin{matrix}1.0 F^{grav}_{0} + 1.0 F^{lift}_{0} \\left(q_{0}^{2}{\\left(t \\right)} + q_{1}^{2}{\\left(t \\right)} - q_{2}^{2}{\\left(t \\right)} - q_{3}^{2}{\\left(t \\right)}\\right) + 1.0 F^{lift}_{1} \\left(- 2 q_{0}{\\left(t \\right)} q_{3}{\\left(t \\right)} + 2 q_{1}{\\left(t \\right)} q_{2}{\\left(t \\right)}\\right) + 1.0 F^{lift}_{2} \\cdot \\left(2 q_{0}{\\left(t \\right)} q_{2}{\\left(t \\right)} + 2 q_{1}{\\left(t \\right)} q_{3}{\\left(t \\right)}\\right)\\\\1.0 F^{grav}_{1} + 1.0 F^{lift}_{0} \\cdot \\left(2 q_{0}{\\left(t \\right)} q_{3}{\\left(t \\right)} + 2 q_{1}{\\left(t \\right)} q_{2}{\\left(t \\right)}\\right) + 1.0 F^{lift}_{1} \\left(q_{0}^{2}{\\left(t \\right)} - q_{1}^{2}{\\left(t \\right)} + q_{2}^{2}{\\left(t \\right)} - q_{3}^{2}{\\left(t \\right)}\\right) + 1.0 F^{lift}_{2} \\left(- 2 q_{0}{\\left(t \\right)} q_{1}{\\left(t \\right)} + 2 q_{2}{\\left(t \\right)} q_{3}{\\left(t \\right)}\\right)\\\\1.0 F^{grav}_{2} + 1.0 F^{lift}_{0} \\left(- 2 q_{0}{\\left(t \\right)} q_{2}{\\left(t \\right)} + 2 q_{1}{\\left(t \\right)} q_{3}{\\left(t \\right)}\\right) + 1.0 F^{lift}_{1} \\cdot \\left(2 q_{0}{\\left(t \\right)} q_{1}{\\left(t \\right)} + 2 q_{2}{\\left(t \\right)} q_{3}{\\left(t \\right)}\\right) + 1.0 F^{lift}_{2} \\left(q_{0}^{2}{\\left(t \\right)} - q_{1}^{2}{\\left(t \\right)} - q_{2}^{2}{\\left(t \\right)} + q_{3}^{2}{\\left(t \\right)}\\right)\\end{matrix}\\right]$"
      ],
      "text/plain": [
       "Matrix([\n",
       "[1.0*F^grav_0 + 1.0*F^lift_0*(q_0(t)**2 + q_1(t)**2 - q_2(t)**2 - q_3(t)**2) + 1.0*F^lift_1*(-2*q_0(t)*q_3(t) + 2*q_1(t)*q_2(t)) + 1.0*F^lift_2*(2*q_0(t)*q_2(t) + 2*q_1(t)*q_3(t))],\n",
       "[1.0*F^grav_1 + 1.0*F^lift_0*(2*q_0(t)*q_3(t) + 2*q_1(t)*q_2(t)) + 1.0*F^lift_1*(q_0(t)**2 - q_1(t)**2 + q_2(t)**2 - q_3(t)**2) + 1.0*F^lift_2*(-2*q_0(t)*q_1(t) + 2*q_2(t)*q_3(t))],\n",
       "[1.0*F^grav_2 + 1.0*F^lift_0*(-2*q_0(t)*q_2(t) + 2*q_1(t)*q_3(t)) + 1.0*F^lift_1*(2*q_0(t)*q_1(t) + 2*q_2(t)*q_3(t)) + 1.0*F^lift_2*(q_0(t)**2 - q_1(t)**2 - q_2(t)**2 + q_3(t)**2)]])"
      ]
     },
     "execution_count": 63,
     "metadata": {},
     "output_type": "execute_result"
    }
   ],
   "source": [
    "fors_term_vec = sp.Matrix([terms[7]*Mqq/p[0], terms[8]*Mqq/p[1], terms[9]*Mqq/p[2]])\n",
    "fors_term_vec"
   ]
  },
  {
   "cell_type": "code",
   "execution_count": 64,
   "id": "2e6d0961",
   "metadata": {},
   "outputs": [
    {
     "data": {
      "text/latex": [
       "$\\displaystyle \\left[\\begin{matrix}0\\\\0\\\\0\\end{matrix}\\right]$"
      ],
      "text/plain": [
       "Matrix([\n",
       "[0],\n",
       "[0],\n",
       "[0]])"
      ]
     },
     "execution_count": 64,
     "metadata": {},
     "output_type": "execute_result"
    }
   ],
   "source": [
    "fors_term_vec - right_part_three_equation"
   ]
  },
  {
   "cell_type": "code",
   "execution_count": 65,
   "id": "2935693f",
   "metadata": {},
   "outputs": [
    {
     "data": {
      "text/latex": [
       "$\\displaystyle \\left[\\begin{matrix}0\\\\0\\\\k_{L} \\left(w^{helix}_{0 2} + w^{helix}_{1 2} + w^{helix}_{2 2} + w^{helix}_{3 2}\\right)\\end{matrix}\\right]$"
      ],
      "text/plain": [
       "Matrix([\n",
       "[                                                          0],\n",
       "[                                                          0],\n",
       "[k_L*(w^helix_0_2 + w^helix_1_2 + w^helix_2_2 + w^helix_3_2)]])"
      ]
     },
     "execution_count": 65,
     "metadata": {},
     "output_type": "execute_result"
    }
   ],
   "source": [
    "k_L = sp.symbols('k_L')\n",
    "f_lift = k_L * sp.Matrix([[0],[0], [w_helix[2] + w_helix[5] + w_helix[8] + w_helix[11]]])\n",
    "f_lift"
   ]
  },
  {
   "cell_type": "code",
   "execution_count": 66,
   "id": "9b550808",
   "metadata": {},
   "outputs": [
    {
     "data": {
      "text/latex": [
       "$\\displaystyle \\left[\\begin{matrix}k_{L} \\left(2 q_{0}{\\left(t \\right)} q_{2}{\\left(t \\right)} + 2 q_{1}{\\left(t \\right)} q_{3}{\\left(t \\right)}\\right) \\left(w^{helix}_{0 2} + w^{helix}_{1 2} + w^{helix}_{2 2} + w^{helix}_{3 2}\\right)\\\\k_{L} \\left(- 2 q_{0}{\\left(t \\right)} q_{1}{\\left(t \\right)} + 2 q_{2}{\\left(t \\right)} q_{3}{\\left(t \\right)}\\right) \\left(w^{helix}_{0 2} + w^{helix}_{1 2} + w^{helix}_{2 2} + w^{helix}_{3 2}\\right)\\\\k_{L} \\left(w^{helix}_{0 2} + w^{helix}_{1 2} + w^{helix}_{2 2} + w^{helix}_{3 2}\\right) \\left(q_{0}^{2}{\\left(t \\right)} - q_{1}^{2}{\\left(t \\right)} - q_{2}^{2}{\\left(t \\right)} + q_{3}^{2}{\\left(t \\right)}\\right)\\end{matrix}\\right]$"
      ],
      "text/plain": [
       "Matrix([\n",
       "[            k_L*(2*q_0(t)*q_2(t) + 2*q_1(t)*q_3(t))*(w^helix_0_2 + w^helix_1_2 + w^helix_2_2 + w^helix_3_2)],\n",
       "[           k_L*(-2*q_0(t)*q_1(t) + 2*q_2(t)*q_3(t))*(w^helix_0_2 + w^helix_1_2 + w^helix_2_2 + w^helix_3_2)],\n",
       "[k_L*(w^helix_0_2 + w^helix_1_2 + w^helix_2_2 + w^helix_3_2)*(q_0(t)**2 - q_1(t)**2 - q_2(t)**2 + q_3(t)**2)]])"
      ]
     },
     "execution_count": 66,
     "metadata": {},
     "output_type": "execute_result"
    }
   ],
   "source": [
    "R_q_f_lift = R_q * f_lift\n",
    "R_q_f_lift"
   ]
  },
  {
   "cell_type": "code",
   "execution_count": null,
   "id": "c685c701",
   "metadata": {},
   "outputs": [],
   "source": []
  },
  {
   "cell_type": "markdown",
   "id": "fc980e34",
   "metadata": {},
   "source": [
    "\\begin{equation}\n",
    "V = \\frac{1}{2}\\vec{\\omega}^T \\widehat{J}_{qq} \\vec{\\omega} + \\vec{q}^T\\vec{q} + \\frac{1}{2m_{qq}}\\vec{p}^T\\vec{p}\n",
    "\\end{equation}"
   ]
  },
  {
   "cell_type": "markdown",
   "id": "3a03e577",
   "metadata": {},
   "source": [
    "\\begin{equation}\n",
    "  \\dot{V} = \\left( -\\sum_{i} \\widehat{J}_{helix,   i} \\dot{\\vec{\\omega}}_{helix, i} + \\sum_{j} \\vec{M}_{air lift, j} + \\vec{M}_{ext} - \\vec{\\omega}_{qq} \\times (\\widehat{J}_{qq}\\vec{\\omega}_{qq} + \\sum_{i} \\widehat{J}_{helix, i} \\vec{\\omega}_{helix, i}),  \\vec{\\omega}_{qq} \\right) + \\left(\\frac{1}{2}\\widehat{\\Omega} \\vec{q}, \\vec{q} \\right) + \\left( \\vec{F}_{grav} + \\widehat{R}(q(t))\\vec{F}_{lift} + \\vec{F}_{air}, \\frac{\\vec{p}}{m_{qq}}\\right)\\\\\n",
    "\\end{equation}"
   ]
  },
  {
   "cell_type": "code",
   "execution_count": null,
   "id": "7c8406df",
   "metadata": {},
   "outputs": [],
   "source": []
  },
  {
   "cell_type": "markdown",
   "id": "b5c00538",
   "metadata": {},
   "source": [
    "\\begin{equation}\n",
    "V = \\frac{1}{2}\\vec{\\omega}^T \\widehat{J}_{qq} \\vec{\\omega} + k_q(1 - q_{0}) + \\frac{1}{2}\\vec{p}^T\\vec{p}\n",
    "\\end{equation}\n",
    "\n",
    "\\begin{equation}\n",
    "{\\vec{q}}_{vect} = \\left( q_1, q_2, q_3 \\right)^T\n",
    "\\end{equation}\n",
    "\n",
    "\\begin{equation}\n",
    "  \\dot{V} = \\left( -\\sum_{i} \\widehat{J}_{helix,   i} \\dot{\\vec{\\omega}}_{helix, i} + \\sum_{j} \\vec{M}_{air lift, j} + \\vec{M}_{ext} - \\vec{\\omega}_{qq} \\times (\\widehat{J}_{qq}\\vec{\\omega}_{qq} + \\sum_{i} \\widehat{J}_{helix, i} \\vec{\\omega}_{helix, i}),  \\vec{\\omega}_{qq} \\right) + \\left(\\frac{1}{2} \\vec{\\omega}_{qq} , k_q{\\vec{q}}_{vect} \\right) + \\left( \\vec{F}_{grav} + \\widehat{R}(q(t))\\vec{F}_{lift} + \\vec{F}_{air}, \\vec{p}\\right)\\\\\n",
    "\\end{equation}"
   ]
  },
  {
   "cell_type": "markdown",
   "id": "ebe4620f",
   "metadata": {},
   "source": [
    "\\begin{equation}\n",
    "  \\dot{V} = \\left( -\\sum_{i} \\widehat{J}_{helix,   i} \\dot{\\vec{\\omega}}_{helix, i} + \\sum_{j} \\vec{M}_{air lift, j} + \\vec{M}_{ext} - \\vec{\\omega}_{qq} \\times (\\widehat{J}_{qq}\\vec{\\omega}_{qq} + \\sum_{i} \\widehat{J}_{helix, i} \\vec{\\omega}_{helix, i}) + \\frac{1}{2} k_q {\\vec{q}}_{vect},  \\vec{\\omega}_{qq} \\right)   + \\left( \\vec{F}_{grav} + \\widehat{R}(q(t))\\vec{F}_{lift}, \\vec{p}\\right)\\\\\n",
    "\\end{equation}"
   ]
  },
  {
   "cell_type": "markdown",
   "id": "7e29364a",
   "metadata": {},
   "source": [
    "момент силы создаваемый одним из поднимающих винтов $\\vec{M}_{air lift} = \\vec{r}\\times\\ \\vec{F}_{lift} $ $ \\vec{r}_0 = (\\frac{L}{2}, 0, 0) $ $ \\vec{r}_1 = (0, \\frac{L}{2}, 0) $ $ \\vec{r}_2 = (-\\frac{L}{2}, 0, 0) $ $ \\vec{r}_3 = (0, -\\frac{L}{2}, 0) $ а внешнее возмущение, как случайный порыва ветра запишем как  $\\vec{M}_{ext}$"
   ]
  },
  {
   "cell_type": "markdown",
   "id": "8c35e5ad",
   "metadata": {},
   "source": [
    "подъемная сила винтов для удобства будет выражаться через пропорциональный коэфициент к угловой скорости вращения $\\vec{F}_{lift}^i = (0, 0, k_l{\\omega_{helix, i}}_z)^T $"
   ]
  },
  {
   "cell_type": "markdown",
   "id": "f377c072",
   "metadata": {},
   "source": [
    "\\begin{equation}\n",
    "\\vec{M}_{air lift}^0 = \n",
    "\\begin{vmatrix}\n",
    "       \\vec{i} & \\vec{j} & \\vec{k} \\\\\n",
    "       \\frac{L}{2} & 0 & 0 \\\\\n",
    "       0           & 0 & k_l{\\omega_{helix, 0}}_z\n",
    "     \\end{vmatrix} = \n",
    "     \\begin{pmatrix}\n",
    "  0 \\\\\n",
    "  -\\frac{L}{2} k_l{\\omega_{helix, 0}}_z \\\\\n",
    "  0\n",
    "\\end{pmatrix}\n",
    "\\end{equation}"
   ]
  },
  {
   "cell_type": "markdown",
   "id": "b54a3f62",
   "metadata": {},
   "source": [
    "\\begin{equation}\n",
    "\\vec{M}_{air lift}^1 = \n",
    "\\begin{vmatrix}\n",
    "       \\vec{i} & \\vec{j} & \\vec{k} \\\\\n",
    "       0 & \\frac{L}{2} & 0 \\\\\n",
    "       0           & 0 & k_lk_l{\\omega_{helix, 1}}_z\n",
    "     \\end{vmatrix} = \n",
    "     \\begin{pmatrix}\n",
    "  \\frac{L}{2} k_l{\\omega_{helix, 1}}_z \\\\\n",
    "  0 \\\\\n",
    "  0\n",
    "\\end{pmatrix}\n",
    "\\end{equation}"
   ]
  },
  {
   "cell_type": "markdown",
   "id": "45833f3e",
   "metadata": {},
   "source": [
    "\\begin{equation}\n",
    "\\vec{M}_{air lift}^2 = \n",
    "     \\begin{pmatrix}\n",
    "  0 \\\\\n",
    "  \\frac{L}{2} k_l{\\omega_{helix, 2}}_z \\\\\n",
    "  0\n",
    "\\end{pmatrix}\n",
    "\\end{equation}\n",
    "\n",
    "\\begin{equation}\n",
    "\\vec{M}_{air lift}^3 = \n",
    "     \\begin{pmatrix}\n",
    "  -\\frac{L}{2} k_l{\\omega_{helix, 3}}_z \\\\\n",
    "  0 \\\\\n",
    "  0\n",
    "\\end{pmatrix}\n",
    "\\end{equation}"
   ]
  },
  {
   "cell_type": "markdown",
   "id": "56bcd0e3",
   "metadata": {},
   "source": [
    "управление выведем из теоремы Барбашина - Красовского"
   ]
  },
  {
   "cell_type": "markdown",
   "id": "397e4037",
   "metadata": {},
   "source": [
    "\\begin{equation}\n",
    "  \\dot{V} \\leq 0\\\\\n",
    "\\end{equation}\n",
    "\n",
    "\\begin{equation}\n",
    " -\\sum_{i} \\widehat{J}_{helix,   i} \\dot{\\vec{\\omega}}_{helix, i} + \\sum_{j} \\vec{M}_{air lift, j} + \\vec{M}_{ext} - \\vec{\\omega}_{qq} \\times (\\widehat{J}_{qq}\\vec{\\omega}_{qq} + \\sum_{i} \\widehat{J}_{helix, i} \\vec{\\omega}_{helix, i}) + \\frac{1}{2} k_q{\\vec{q}}_{vect} = -\\gamma \\vec{\\omega}_{qq}   \\\\\n",
    "\\end{equation}\n",
    "\n"
   ]
  },
  {
   "cell_type": "markdown",
   "id": "2affe712-382b-4ac9-865f-4ccbdc4c75c1",
   "metadata": {},
   "source": [
    "\\begin{equation}\n",
    " \\sum_{i} \\widehat{J}_{helix,   i} \\dot{\\vec{\\omega}}_{helix, i} = + \\sum_{j} \\vec{M}_{air lift, j} + \\vec{M}_{ext} - \\vec{\\omega}_{qq} \\times (\\widehat{J}_{qq}\\vec{\\omega}_{qq} + \\sum_{i} \\widehat{J}_{helix, i} \\vec{\\omega}_{helix, i}) + \\frac{1}{2} k_q{\\vec{q}}_{vect} + \\gamma \\vec{\\omega}_{qq}   \\\\\n",
    "\\end{equation}\n",
    "\n"
   ]
  },
  {
   "cell_type": "markdown",
   "id": "866ba343",
   "metadata": {},
   "source": [
    " что избежать особенносте с поворотами заменим $k_q{\\vec{q}}_{vect}$ на $sign(q_0)k_q{\\vec{q}}_{vect}$"
   ]
  },
  {
   "cell_type": "markdown",
   "id": "6f83a3d4",
   "metadata": {},
   "source": [
    "\\begin{equation}\n",
    " \\sum_{i} \\widehat{J}_{helix,   i} \\dot{\\vec{\\omega}}_{helix, i}  = \\gamma \\vec{\\omega}_{qq}  +  \\sum_{j} \\vec{M}_{air lift, j} + \\vec{M}_{ext} - \\vec{\\omega}_{qq} \\times (\\widehat{J}_{qq}\\vec{\\omega}_{qq} + \\sum_{i} \\widehat{J}_{helix, i} \\vec{\\omega}_{helix, i}) - \\frac{1}{2} sign(q_0)k_q{\\vec{q}}_{vect} \\\\\n",
    "\\end{equation}"
   ]
  },
  {
   "cell_type": "markdown",
   "id": "d66c85eb",
   "metadata": {},
   "source": [
    "\n",
    "\\begin{equation}\n",
    "  \\vec{F}_{grav} + \\widehat{R}(q(t))\\vec{F}_{lift} = -\\beta \\vec{p}\n",
    "\\end{equation}"
   ]
  },
  {
   "cell_type": "markdown",
   "id": "a302b69b",
   "metadata": {},
   "source": [
    "разрешим уравнения на управление лопостями"
   ]
  },
  {
   "cell_type": "markdown",
   "id": "52989544",
   "metadata": {},
   "source": [
    "\\begin{equation}\n",
    " \\begin{cases}\n",
    "  \\sum_{j} \\vec{M}_{ext, j} + \\vec{M}_{air lift}=  \\widehat{J}_{qq}\\dot{\\vec{\\omega}}_{qq} + \\sum_{i} \\widehat{J}_{helix,   i}\\dot{\\vec{\\omega}}_{helix, i} + \\vec{\\omega}_{qq} \\times (\\widehat{J}_{qq}\\vec{\\omega}_{qq} + \\sum_{i} \\widehat{J}_{helix, i} \\vec{\\omega}_{helix, i}) \\\\\n",
    "   \\vec{\\dot{q}} = \\frac{1}{2}\\widehat{\\Omega}\\vec{q}\\\\\n",
    "   \\vec{F}_{grav} + \\widehat{R}(q(t))\\vec{F}_{lift}  = \\dot{\\vec{p}}\\\\\n",
    " \\end{cases}\n",
    "\\end{equation}"
   ]
  },
  {
   "cell_type": "markdown",
   "id": "9ca88f4c",
   "metadata": {},
   "source": [
    "\\begin{equation}\n",
    " \\begin{cases}\n",
    " \\widehat{J}_{qq}\\dot{\\vec{\\omega}}_{qq} = \\sum_{j} \\vec{M}_{ext, j} + \\vec{M}_{air lift} - \\sum_{i} \\widehat{J}_{helix,   i}\\dot{\\vec{\\omega}}_{helix, i} - \\vec{\\omega}_{qq} \\times (\\widehat{J}_{qq}\\vec{\\omega}_{qq} + \\sum_{i} \\widehat{J}_{helix, i} \\vec{\\omega}_{helix, i}) \\\\\n",
    "   \\vec{\\dot{q}} = \\frac{1}{2}\\widehat{\\Omega}\\vec{q}\\\\\n",
    "   \\dot{\\vec{p}} = \\vec{F}_{grav} + \\widehat{R}(q(t))\\vec{F}_{lift}\\\\\n",
    " \\end{cases}\n",
    "\\end{equation}"
   ]
  },
  {
   "cell_type": "markdown",
   "id": "e323db04",
   "metadata": {},
   "source": [
    "\\begin{equation}\n",
    " \\begin{cases}\n",
    " \\widehat{J}_{qq}\\dot{\\vec{\\omega}}_{qq} = -\\gamma \\vec{\\omega}_{qq} - \\frac{1}{2} sign(q_0)k_q{\\vec{q}}_{vect}\\\\\n",
    "  \\sum_{i} \\widehat{J}_{helix,   i} \\dot{\\vec{\\omega}}_{helix, i}  = \\gamma \\vec{\\omega}_{qq}  +  \\sum_{j} \\vec{M}_{air lift, j} + \\vec{M}_{ext} - \\vec{\\omega}_{qq} \\times (\\widehat{J}_{qq}\\vec{\\omega}_{qq} + \\sum_{i} \\widehat{J}_{helix, i} \\vec{\\omega}_{helix, i}) - \\frac{1}{2} sign(q_0)k_q{\\vec{q}}_{vect} \\\\\n",
    "   \\vec{\\dot{q}} = \\frac{1}{2}\\widehat{\\Omega}\\vec{q}\\\\\n",
    "   \\dot{\\vec{p}} = -\\beta \\vec{p}\\\\\n",
    "   \\widehat{R}(q(t))\\vec{F}_{lift} = -\\beta \\vec{p} - \\vec{F}_{grav}\n",
    " \\end{cases}\n",
    "\\end{equation}"
   ]
  },
  {
   "cell_type": "markdown",
   "id": "b575cd09",
   "metadata": {},
   "source": [
    "или в скалярном виде"
   ]
  },
  {
   "cell_type": "markdown",
   "id": "2017fe28",
   "metadata": {},
   "source": [
    "\\begin{equation}\n",
    " \\begin{cases}\n",
    " \\widehat{J}_{qq}\\dot{\\vec{\\omega}}_{qq} = -\\gamma \\vec{\\omega}_{qq} - \\frac{1}{2} sign(q_0)k_q{\\vec{q}}_{vect}\\\\\n",
    "  \\sum_{i} \\widehat{J}_{helix,   i} \\dot{\\vec{\\omega}}_{helix, i}  = \\gamma \\vec{\\omega}_{qq}  +  \\sum_{j} \\vec{M}_{air lift, j} + \\vec{M}_{ext} - \\vec{\\omega}_{qq} \\times (\\widehat{J}_{qq}\\vec{\\omega}_{qq} + \\sum_{i} \\widehat{J}_{helix, i} \\vec{\\omega}_{helix, i}) - \\frac{1}{2} sign(q_0)k_q{\\vec{q}}_{vect} \\\\\n",
    "   \\vec{\\dot{q}} = \\frac{1}{2}\\widehat{\\Omega}\\vec{q}\\\\\n",
    "   \\dot{\\vec{p}} = -\\beta \\vec{p}\\\\\n",
    "   \\widehat{R}(q(t))\\vec{F}_{lift} = -\\beta \\vec{p} - \\vec{F}_{grav}\n",
    " \\end{cases}\n",
    "\\end{equation}"
   ]
  },
  {
   "cell_type": "code",
   "execution_count": null,
   "id": "1ce2e639",
   "metadata": {},
   "outputs": [],
   "source": []
  },
  {
   "cell_type": "markdown",
   "id": "24d84630",
   "metadata": {},
   "source": [
    "\\begin{equation}\n",
    "\\sum_{i} \\widehat{J}_{helix,   i} \\dot{\\vec{\\omega}}_{helix, i} + \\sum_{j} \\vec{M}_{air lift, j} + \\vec{M}_{ext} - \\vec{\\omega}_{qq} \\times (\\widehat{J}_{qq}\\vec{\\omega}_{qq} + \\sum_{i} \\widehat{J}_{helix, i} \\vec{\\omega}_{helix, i}) = -\\gamma  \\vec{\\omega}_{qq} \n",
    "\\end{equation}"
   ]
  },
  {
   "cell_type": "code",
   "execution_count": 369,
   "id": "a140eda7",
   "metadata": {},
   "outputs": [
    {
     "data": {
      "text/latex": [
       "$\\displaystyle \\left(\\operatorname{q_{0}}{\\left(t \\right)} \\operatorname{w^{qq}_{0}}{\\left(t \\right)} - \\operatorname{q_{2}}{\\left(t \\right)} \\operatorname{w^{qq}_{2}}{\\left(t \\right)} + \\operatorname{q_{3}}{\\left(t \\right)} \\operatorname{w^{qq}_{1}}{\\left(t \\right)}\\right) \\operatorname{q_{1}}{\\left(t \\right)} + \\left(\\operatorname{q_{0}}{\\left(t \\right)} \\operatorname{w^{qq}_{1}}{\\left(t \\right)} + \\operatorname{q_{1}}{\\left(t \\right)} \\operatorname{w^{qq}_{2}}{\\left(t \\right)} - \\operatorname{q_{3}}{\\left(t \\right)} \\operatorname{w^{qq}_{0}}{\\left(t \\right)}\\right) \\operatorname{q_{2}}{\\left(t \\right)} + \\left(\\operatorname{q_{0}}{\\left(t \\right)} \\operatorname{w^{qq}_{2}}{\\left(t \\right)} - \\operatorname{q_{1}}{\\left(t \\right)} \\operatorname{w^{qq}_{1}}{\\left(t \\right)} + \\operatorname{q_{2}}{\\left(t \\right)} \\operatorname{w^{qq}_{0}}{\\left(t \\right)}\\right) \\operatorname{q_{3}}{\\left(t \\right)} + \\left(- \\operatorname{q_{1}}{\\left(t \\right)} \\operatorname{w^{qq}_{0}}{\\left(t \\right)} - \\operatorname{q_{2}}{\\left(t \\right)} \\operatorname{w^{qq}_{1}}{\\left(t \\right)} - \\operatorname{q_{3}}{\\left(t \\right)} \\operatorname{w^{qq}_{2}}{\\left(t \\right)}\\right) \\operatorname{q_{0}}{\\left(t \\right)}$"
      ],
      "text/plain": [
       "(q_0(t)*w^qq_0(t) - q_2(t)*w^qq_2(t) + q_3(t)*w^qq_1(t))*q_1(t) + (q_0(t)*w^qq_1(t) + q_1(t)*w^qq_2(t) - q_3(t)*w^qq_0(t))*q_2(t) + (q_0(t)*w^qq_2(t) - q_1(t)*w^qq_1(t) + q_2(t)*w^qq_0(t))*q_3(t) + (-q_1(t)*w^qq_0(t) - q_2(t)*w^qq_1(t) - q_3(t)*w^qq_2(t))*q_0(t)"
      ]
     },
     "execution_count": 369,
     "metadata": {},
     "output_type": "execute_result"
    }
   ],
   "source": [
    "(OmegaTen*qq).dot(qq)"
   ]
  },
  {
   "cell_type": "code",
   "execution_count": 361,
   "id": "705a68bd",
   "metadata": {},
   "outputs": [
    {
     "data": {
      "text/latex": [
       "$\\displaystyle \\left[\\begin{matrix}- \\operatorname{q_{1}}{\\left(t \\right)} \\operatorname{w^{qq}_{0}}{\\left(t \\right)} - \\operatorname{q_{2}}{\\left(t \\right)} \\operatorname{w^{qq}_{1}}{\\left(t \\right)} - \\operatorname{q_{3}}{\\left(t \\right)} \\operatorname{w^{qq}_{2}}{\\left(t \\right)}\\\\\\operatorname{q_{0}}{\\left(t \\right)} \\operatorname{w^{qq}_{0}}{\\left(t \\right)} - \\operatorname{q_{2}}{\\left(t \\right)} \\operatorname{w^{qq}_{2}}{\\left(t \\right)} + \\operatorname{q_{3}}{\\left(t \\right)} \\operatorname{w^{qq}_{1}}{\\left(t \\right)}\\\\\\operatorname{q_{0}}{\\left(t \\right)} \\operatorname{w^{qq}_{1}}{\\left(t \\right)} + \\operatorname{q_{1}}{\\left(t \\right)} \\operatorname{w^{qq}_{2}}{\\left(t \\right)} - \\operatorname{q_{3}}{\\left(t \\right)} \\operatorname{w^{qq}_{0}}{\\left(t \\right)}\\\\\\operatorname{q_{0}}{\\left(t \\right)} \\operatorname{w^{qq}_{2}}{\\left(t \\right)} - \\operatorname{q_{1}}{\\left(t \\right)} \\operatorname{w^{qq}_{1}}{\\left(t \\right)} + \\operatorname{q_{2}}{\\left(t \\right)} \\operatorname{w^{qq}_{0}}{\\left(t \\right)}\\end{matrix}\\right]$"
      ],
      "text/plain": [
       "Matrix([\n",
       "[-q_1(t)*w^qq_0(t) - q_2(t)*w^qq_1(t) - q_3(t)*w^qq_2(t)],\n",
       "[ q_0(t)*w^qq_0(t) - q_2(t)*w^qq_2(t) + q_3(t)*w^qq_1(t)],\n",
       "[ q_0(t)*w^qq_1(t) + q_1(t)*w^qq_2(t) - q_3(t)*w^qq_0(t)],\n",
       "[ q_0(t)*w^qq_2(t) - q_1(t)*w^qq_1(t) + q_2(t)*w^qq_0(t)]])"
      ]
     },
     "execution_count": 361,
     "metadata": {},
     "output_type": "execute_result"
    }
   ],
   "source": [
    "OmegaTen* qq"
   ]
  },
  {
   "cell_type": "code",
   "execution_count": 368,
   "id": "54362680",
   "metadata": {},
   "outputs": [
    {
     "data": {
      "text/latex": [
       "$\\displaystyle \\left[\\begin{matrix}0\\\\0\\\\0\\\\0\\end{matrix}\\right]$"
      ],
      "text/plain": [
       "Matrix([\n",
       "[0],\n",
       "[0],\n",
       "[0],\n",
       "[0]])"
      ]
     },
     "execution_count": 368,
     "metadata": {},
     "output_type": "execute_result"
    }
   ],
   "source": [
    "QQ = sp.Matrix([[-q[1], -q[2], -q[3]],\n",
    "                [ q[0],  q[3], -q[2]],\n",
    "                [-q[3],  q[0],  q[1]],\n",
    "                [ q[2], -q[1],  q[0]]])\n",
    "QQ * wqq - OmegaTen* qq"
   ]
  },
  {
   "cell_type": "code",
   "execution_count": null,
   "id": "19ebb8cf",
   "metadata": {},
   "outputs": [],
   "source": []
  }
 ],
 "metadata": {
  "kernelspec": {
   "display_name": "Python 3 (ipykernel)",
   "language": "python",
   "name": "python3"
  },
  "language_info": {
   "codemirror_mode": {
    "name": "ipython",
    "version": 3
   },
   "file_extension": ".py",
   "mimetype": "text/x-python",
   "name": "python",
   "nbconvert_exporter": "python",
   "pygments_lexer": "ipython3",
   "version": "3.11.7"
  }
 },
 "nbformat": 4,
 "nbformat_minor": 5
}
